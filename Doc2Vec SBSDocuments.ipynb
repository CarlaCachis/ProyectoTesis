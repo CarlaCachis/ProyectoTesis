{
 "cells": [
  {
   "cell_type": "code",
   "execution_count": 2,
   "metadata": {},
   "outputs": [
    {
     "name": "stderr",
     "output_type": "stream",
     "text": [
      "C:\\Users\\Carla\\Anaconda3\\lib\\site-packages\\gensim\\utils.py:1197: UserWarning: detected Windows; aliasing chunkize to chunkize_serial\n",
      "  warnings.warn(\"detected Windows; aliasing chunkize to chunkize_serial\")\n"
     ]
    }
   ],
   "source": [
    "import multiprocessing \n",
    "import gensim\n",
    "import nltk\n",
    "from gensim.models.doc2vec import Doc2Vec, TaggedDocument\n",
    "from nltk.tokenize import word_tokenize"
   ]
  },
  {
   "cell_type": "code",
   "execution_count": 16,
   "metadata": {},
   "outputs": [],
   "source": [
    "from pymongo import MongoClient\n",
    "client = MongoClient('localhost', 27017)\n",
    "\n",
    "bdtesis = client.BDTesis\n",
    "documents2train = bdtesis.documents2train\n"
   ]
  },
  {
   "cell_type": "code",
   "execution_count": 18,
   "metadata": {},
   "outputs": [
    {
     "data": {
      "text/plain": [
       "4771"
      ]
     },
     "execution_count": 18,
     "metadata": {},
     "output_type": "execute_result"
    }
   ],
   "source": [
    "#a minusculas\n",
    "data = []\n",
    "for x in bdtesis.documents2train.find():\n",
    "    data.append(x['documento'])\n",
    "datamin =[]\n",
    "for x in (data):\n",
    "    datamin.append(x.lower()) \n",
    "len(data)"
   ]
  },
  {
   "cell_type": "code",
   "execution_count": 9,
   "metadata": {},
   "outputs": [],
   "source": [
    "#limpieza de puntuación\n",
    "import re\n",
    "import nltk\n",
    "import string\n",
    "string.punctuation\n",
    "datapunc = []\n",
    "for x in datamin:\n",
    "    datapunc.append(x.translate(str.maketrans('', '', string.punctuation)))\n"
   ]
  },
  {
   "cell_type": "code",
   "execution_count": 10,
   "metadata": {},
   "outputs": [],
   "source": [
    "#retirar stopwords\n",
    "from nltk.corpus import stopwords\n",
    "stops = stopwords.words('spanish')\n",
    "dataclean = []\n",
    "for x in datapunc:\n",
    "    palabras = x.split()\n",
    "    resultwords  = [palabra for palabra in palabras if palabra.lower() not in stops]\n",
    "    dataclean.append(' '.join(resultwords))\n",
    "    \n"
   ]
  },
  {
   "cell_type": "code",
   "execution_count": 11,
   "metadata": {},
   "outputs": [],
   "source": [
    "tagged_data = [TaggedDocument(words=word_tokenize(_d.lower()), tags=[str(i)]) for i, _d in enumerate(dataclean)]"
   ]
  },
  {
   "cell_type": "code",
   "execution_count": 12,
   "metadata": {},
   "outputs": [],
   "source": [
    "#PARAMETROS\n",
    "cores = multiprocessing.cpu_count()\n",
    "words = 1\n",
    "size = 300\n",
    "context_window = 8\n",
    "min_count = 19\n",
    "epochs = 10\n",
    "n_epochs = 10"
   ]
  },
  {
   "cell_type": "code",
   "execution_count": 13,
   "metadata": {},
   "outputs": [
    {
     "name": "stderr",
     "output_type": "stream",
     "text": [
      "C:\\Users\\Carla\\Anaconda3\\lib\\site-packages\\gensim\\models\\doc2vec.py:366: UserWarning: The parameter `size` is deprecated, will be removed in 4.0.0, use `vector_size` instead.\n",
      "  warnings.warn(\"The parameter `size` is deprecated, will be removed in 4.0.0, use `vector_size` instead.\")\n"
     ]
    },
    {
     "name": "stdout",
     "output_type": "stream",
     "text": [
      "Wall time: 39.8 s\n"
     ]
    }
   ],
   "source": [
    "n_epochs = 100\n",
    "vec_size = 100\n",
    "alpha = 0.025\n",
    "model = Doc2Vec(size=vec_size, alpha=alpha,min_count=1, dm =0)\n",
    "model.build_vocab(tagged_data)\n",
    "%time model.train(tagged_data, total_examples=model.corpus_count, epochs=n_epochs)\n",
    "\n",
    "\n",
    "model.save(\"./doc2vec_sbs_documents_pvdbow2\")\n",
    "  "
   ]
  },
  {
   "cell_type": "code",
   "execution_count": null,
   "metadata": {},
   "outputs": [],
   "source": [
    "model = Doc2Vec.load(\"./doc2vec_sbs_documents_pvdbow2\")\n"
   ]
  },
  {
   "cell_type": "code",
   "execution_count": 14,
   "metadata": {},
   "outputs": [
    {
     "name": "stderr",
     "output_type": "stream",
     "text": [
      "C:\\Users\\Carla\\Anaconda3\\lib\\site-packages\\ipykernel_launcher.py:1: DeprecationWarning: Call to deprecated `most_similar` (Method will be removed in 4.0.0, use self.wv.most_similar() instead).\n",
      "  \"\"\"Entry point for launching an IPython kernel.\n"
     ]
    },
    {
     "data": {
      "text/plain": [
       "[('decidido', 0.39620912075042725),\n",
       " ('escrito', 0.34634608030319214),\n",
       " ('forma', 0.3419508934020996),\n",
       " ('permitidas', 0.3388301134109497),\n",
       " ('corredora', 0.3345121145248413),\n",
       " ('of', 0.31789931654930115),\n",
       " ('3°', 0.3164294362068176),\n",
       " ('administrar', 0.31448763608932495),\n",
       " ('establecidas', 0.3099898099899292),\n",
       " ('extendido', 0.3096519708633423)]"
      ]
     },
     "execution_count": 14,
     "metadata": {},
     "output_type": "execute_result"
    }
   ],
   "source": [
    "model.most_similar(positive=['seguros'],topn=10)"
   ]
  },
  {
   "cell_type": "code",
   "execution_count": 15,
   "metadata": {},
   "outputs": [
    {
     "name": "stderr",
     "output_type": "stream",
     "text": [
      "C:\\Users\\Carla\\Anaconda3\\lib\\site-packages\\ipykernel_launcher.py:1: DeprecationWarning: Call to deprecated `most_similar` (Method will be removed in 4.0.0, use self.wv.most_similar() instead).\n",
      "  \"\"\"Entry point for launching an IPython kernel.\n"
     ]
    },
    {
     "data": {
      "text/plain": [
       "[('dependencias', 0.3360072672367096),\n",
       " ('precedente', 0.31341344118118286),\n",
       " ('proporcional', 0.311931312084198),\n",
       " ('emitidos', 0.2994183301925659),\n",
       " ('cambio7', 0.2992700934410095),\n",
       " ('adquisición', 0.29593825340270996),\n",
       " ('ambas', 0.29354527592658997),\n",
       " ('354°', 0.2904347777366638),\n",
       " ('nivel', 0.2875019907951355),\n",
       " ('compete', 0.2868596017360687)]"
      ]
     },
     "execution_count": 15,
     "metadata": {},
     "output_type": "execute_result"
    }
   ],
   "source": [
    "model.most_similar(positive=['soat'],topn=10)"
   ]
  },
  {
   "cell_type": "code",
   "execution_count": null,
   "metadata": {},
   "outputs": [],
   "source": []
  }
 ],
 "metadata": {
  "kernelspec": {
   "display_name": "Python 3",
   "language": "python",
   "name": "python3"
  },
  "language_info": {
   "codemirror_mode": {
    "name": "ipython",
    "version": 3
   },
   "file_extension": ".py",
   "mimetype": "text/x-python",
   "name": "python",
   "nbconvert_exporter": "python",
   "pygments_lexer": "ipython3",
   "version": "3.6.4"
  }
 },
 "nbformat": 4,
 "nbformat_minor": 2
}
