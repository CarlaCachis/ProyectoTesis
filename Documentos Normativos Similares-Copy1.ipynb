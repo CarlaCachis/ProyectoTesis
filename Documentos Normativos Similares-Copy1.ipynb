{
 "cells": [
  {
   "cell_type": "code",
   "execution_count": 3,
   "metadata": {},
   "outputs": [],
   "source": [
    "import numpy as np\n",
    "from sklearn.metrics.pairwise import cosine_similarity\n",
    "import re\n",
    "import nltk\n",
    "import string\n",
    "from nltk.corpus import stopwords\n",
    "from nltk.tokenize import word_tokenize\n",
    "import multiprocessing \n",
    "import gensim\n",
    "from gensim.models.doc2vec import Doc2Vec, TaggedDocument\n",
    "import numpy as np\n",
    "from sklearn.metrics.pairwise import cosine_similarity\n"
   ]
  },
  {
   "cell_type": "code",
   "execution_count": 4,
   "metadata": {},
   "outputs": [
    {
     "name": "stdout",
     "output_type": "stream",
     "text": [
      "Ingrese la pregunta:\n",
      "¿Las inversiones deben ser reportadas en el anexo es-4?\n"
     ]
    }
   ],
   "source": [
    "#¿Las inversiones deben ser reportadas en el anexo es-4?\n",
    "print('Ingrese la pregunta:')\n",
    "pregunta = input()"
   ]
  },
  {
   "cell_type": "code",
   "execution_count": 5,
   "metadata": {},
   "outputs": [
    {
     "data": {
      "text/plain": [
       "['inversiones', 'deben', 'ser', 'reportadas', 'anexo', 'es4']"
      ]
     },
     "execution_count": 5,
     "metadata": {},
     "output_type": "execute_result"
    }
   ],
   "source": [
    "cadpun = string.punctuation + '¿�'\n",
    "stops = stopwords.words('spanish')\n",
    "\n",
    "\n",
    "pregunta = pregunta.lower()\n",
    "pregunta = pregunta.translate(str.maketrans('', '', cadpun))\n",
    "palabras = pregunta.split()\n",
    "resultwords = [palabra for palabra in palabras if palabra.lower() not in stops]\n",
    "preguntaclean = (' '.join(resultwords)).split()\n",
    "preguntaclean"
   ]
  },
  {
   "cell_type": "code",
   "execution_count": 6,
   "metadata": {},
   "outputs": [],
   "source": [
    "tagged_question = [TaggedDocument(words=word_tokenize(_d.lower()), tags=[str(i)]) for i, _d in enumerate(pregunta)]\n",
    "palabras = pregunta.split()"
   ]
  },
  {
   "cell_type": "code",
   "execution_count": 7,
   "metadata": {},
   "outputs": [
    {
     "data": {
      "text/plain": [
       "(1301830, 300)"
      ]
     },
     "execution_count": 7,
     "metadata": {},
     "output_type": "execute_result"
    }
   ],
   "source": [
    "model = gensim.models.Word2Vec.load(\"./doc2vec_wikipedia_es_pvdbow\")\n",
    "model.docvecs.vectors_docs.shape\n"
   ]
  },
  {
   "cell_type": "code",
   "execution_count": 19,
   "metadata": {},
   "outputs": [],
   "source": [
    "from pymongo import MongoClient\n",
    "client = MongoClient('localhost', 27017)\n",
    "\n",
    "bdtesis = client.BDTesis\n",
    "\n",
    "documentos = bdtesis.documentosSBS\n"
   ]
  },
  {
   "cell_type": "code",
   "execution_count": 40,
   "metadata": {},
   "outputs": [],
   "source": [
    "vector = model.infer_vector(preguntaclean).reshape(1,-1)\n",
    "vectores = []\n",
    "documentos = []\n",
    "capitulos = []\n",
    "articulos = []\n",
    "literales1 = []\n",
    "literales2 = []\n",
    "documentocod = []\n",
    "for x in bdtesis.documentosSBS.find():\n",
    "    vectores.append(x['vector'])\n",
    "for x in bdtesis.documentosSBS.find():\n",
    "    documentos.append(x['contenido'])\n",
    "for x in bdtesis.documentosSBS.find():\n",
    "    capitulos.append(x['capitulo'])\n",
    "for x in bdtesis.documentosSBS.find():\n",
    "    articulos.append(x['articulo'])\n",
    "    \n",
    "for x in bdtesis.documentosSBS.find():\n",
    "    literales1.append(x['literal1'])\n",
    "    \n",
    "for x in bdtesis.documentosSBS.find():\n",
    "    literales2.append(x['literal2'])\n",
    "    \n",
    "for x in bdtesis.documentosSBS.find():\n",
    "    documentocod.append(x['documento'])"
   ]
  },
  {
   "cell_type": "code",
   "execution_count": 41,
   "metadata": {},
   "outputs": [
    {
     "data": {
      "text/plain": [
       "'El cálculo del indicador de medición del riesgo cambiario deberá ser incluido en el Anexo ES-19A.'"
      ]
     },
     "execution_count": 41,
     "metadata": {},
     "output_type": "execute_result"
    }
   ],
   "source": [
    "#comparación la pregunta ingresada con la BD\n",
    "proximidades = []\n",
    "maxprox = 0\n",
    "cont = 0\n",
    "similares = {}\n",
    "\n",
    "for x in vectores:\n",
    "    vectordoc = np.asarray(x).reshape(1,-1)\n",
    "    res = cosine_similarity(vectordoc,vector) \n",
    "    #similares[float(res[0])] = preguntas[cont]\n",
    "    similares[documentos[cont]] = float(res[0]) \n",
    "    if (res> maxprox):\n",
    "        docaprox = documentos[cont]\n",
    "        maxprox = res\n",
    "        contprox = cont\n",
    "        capprox = capitulos[cont]\n",
    "        artprox = articulos[cont]\n",
    "        lit1prox = literales1[cont]\n",
    "        lit2prox = literales2[cont]\n",
    "        docprox = documentocod[cont]\n",
    "    proximidades.append(res)\n",
    "    cont = cont + 1\n",
    "docaprox\n"
   ]
  },
  {
   "cell_type": "code",
   "execution_count": 42,
   "metadata": {},
   "outputs": [
    {
     "data": {
      "text/plain": [
       "array([[0.58205193]])"
      ]
     },
     "execution_count": 42,
     "metadata": {},
     "output_type": "execute_result"
    }
   ],
   "source": [
    "max(proximidades)"
   ]
  },
  {
   "cell_type": "code",
   "execution_count": 43,
   "metadata": {},
   "outputs": [],
   "source": [
    "ordenados = sorted(similares.items(), key=lambda kv: kv[1], reverse=True)\n"
   ]
  },
  {
   "cell_type": "code",
   "execution_count": 44,
   "metadata": {},
   "outputs": [
    {
     "name": "stdout",
     "output_type": "stream",
     "text": [
      "('El cálculo del indicador de medición del riesgo cambiario deberá ser incluido en el Anexo ES-19A.', 0.5820519293093409)\n",
      "('La unidad de inversiones debe cumplir como mínimo con las siguientes funciones: ', 0.5746024045826336)\n",
      "('Se aplicarán los siguientes factores:', 0.5665228002660154)\n",
      "('El Anexo N° ES-4E.2 Características adicionales de las inversiones en inmuebles que generan flujos periódicos se remite con periodicidad semestral ', 0.5648999897652188)\n",
      "('Anexo ES-19B: Posición en dólares de los Estados Unidos de América.', 0.5544676467992563)\n"
     ]
    }
   ],
   "source": [
    "print(ordenados[0])\n",
    "print(ordenados[1])\n",
    "print(ordenados[2])\n",
    "print(ordenados[3])\n",
    "print(ordenados[4])\n"
   ]
  },
  {
   "cell_type": "code",
   "execution_count": 47,
   "metadata": {},
   "outputs": [
    {
     "name": "stdout",
     "output_type": "stream",
     "text": [
      "Documento: 2507\n",
      "Capítulo: II\n",
      "Artículo: 5\n",
      "Literal 1: None\n",
      "Literal 2: None\n"
     ]
    }
   ],
   "source": [
    "print(\"Documento: \" + str(docprox))\n",
    "print(\"Capítulo: \" + capprox)\n",
    "print(\"Artículo: \" + str(artprox))\n",
    "print(\"Literal 1: \" + str(lit1prox))\n",
    "print(\"Literal 2: \" + str(lit2prox))"
   ]
  },
  {
   "cell_type": "markdown",
   "metadata": {},
   "source": [
    "# Verificación"
   ]
  },
  {
   "cell_type": "code",
   "execution_count": null,
   "metadata": {},
   "outputs": [],
   "source": []
  }
 ],
 "metadata": {
  "kernelspec": {
   "display_name": "Python 3",
   "language": "python",
   "name": "python3"
  },
  "language_info": {
   "codemirror_mode": {
    "name": "ipython",
    "version": 3
   },
   "file_extension": ".py",
   "mimetype": "text/x-python",
   "name": "python",
   "nbconvert_exporter": "python",
   "pygments_lexer": "ipython3",
   "version": "3.6.4"
  }
 },
 "nbformat": 4,
 "nbformat_minor": 2
}
