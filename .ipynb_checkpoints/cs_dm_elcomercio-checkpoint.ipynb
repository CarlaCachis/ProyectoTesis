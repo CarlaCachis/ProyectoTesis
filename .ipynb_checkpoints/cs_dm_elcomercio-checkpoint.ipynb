{
 "cells": [
  {
   "cell_type": "code",
   "execution_count": 1,
   "metadata": {},
   "outputs": [],
   "source": [
    "%load_ext autoreload\n",
    "%autoreload 2"
   ]
  },
  {
   "cell_type": "code",
   "execution_count": 2,
   "metadata": {},
   "outputs": [],
   "source": [
    "import gensim\n",
    "import os\n",
    "import collections\n",
    "import pymongo\n",
    "import scipy\n",
    "import pandas as pd\n",
    "import numpy as np\n",
    "from nltk.corpus import stopwords\n",
    "from gensim.models.doc2vec import Doc2Vec, TaggedDocument\n",
    "from gensim.test.utils import get_tmpfile\n",
    "from sklearn.metrics.pairwise import cosine_similarity\n",
    "import matplotlib.pyplot as plt\n",
    "import seaborn as sns\n",
    "import warnings"
   ]
  },
  {
   "cell_type": "code",
   "execution_count": 3,
   "metadata": {},
   "outputs": [],
   "source": [
    "warnings.filterwarnings('ignore')\n",
    "sns.set()"
   ]
  },
  {
   "cell_type": "markdown",
   "metadata": {},
   "source": [
    "# Base de datos"
   ]
  },
  {
   "cell_type": "code",
   "execution_count": 4,
   "metadata": {},
   "outputs": [
    {
     "name": "stdout",
     "output_type": "stream",
     "text": [
      "La cantidad de noticias totales del periódico El Comercio es: 1423\n",
      "La cantidad de noticias totales (preprocesadas) del periódico El Comercio es: 1423\n"
     ]
    }
   ],
   "source": [
    "client = pymongo.MongoClient(\"mongodb://34.228.30.11/crime_inf_test\")\n",
    "db = client['crime_inf_test']\n",
    "newsdb_elcomercio = db['news_elcomercio_v2']\n",
    "newsdb_elcomercio_prep = db['news_elcomercio_prep']\n",
    "print(\"La cantidad de noticias totales del periódico El Comercio es: {}\".format(newsdb_elcomercio.find({}).count()))\n",
    "print(\"La cantidad de noticias totales (preprocesadas) del periódico El Comercio es: {}\".format(newsdb_elcomercio_prep.find({}).count()))"
   ]
  },
  {
   "cell_type": "code",
   "execution_count": 5,
   "metadata": {},
   "outputs": [],
   "source": [
    "news_complete = newsdb_elcomercio.find({})\n",
    "news = newsdb_elcomercio_prep.find({})\n",
    "news_df_complete = pd.DataFrame(list(news_complete))\n",
    "news_df = pd.DataFrame(list(news))"
   ]
  },
  {
   "cell_type": "code",
   "execution_count": 6,
   "metadata": {},
   "outputs": [],
   "source": [
    "news_complete_text = list(news_df_complete['text'])\n",
    "news_titles = list(news_df_complete['title'])\n",
    "news_text = list(news_df['tokens']) #guardamos el texto preprocesado en otra lista"
   ]
  },
  {
   "cell_type": "code",
   "execution_count": 7,
   "metadata": {},
   "outputs": [
    {
     "name": "stdout",
     "output_type": "stream",
     "text": [
      "[u'victoria', u'p\\xe1nico', u'balacera', u'emporio', u'comercial', u'gamarra', u'tras', u'enfrentamiento', u'delincuente', u'ingres\\xf3', u'restaurante', u'pepes', u'amenaz\\xf3', u'arma', u'mozos', u'ayuden', u'escapar', u'polic\\xedas', u'serenos', u'p\\xe1nico', u'apoder\\xf3', u'comerciantes', u'personas', u'van', u'comprar', u'emporio', u'comercial', u'gamarra', u'victoria', u'tarde', u'desat\\xf3', u'balacera', u'enfrentamiento', u'polic\\xeda', u'nacional', u'delincuentes', u'testigos', u'contaron', u'origin\\xf3', u'cruce', u'jirones', u'antonio', u'bazo', u'gamarra', u'hampones', u'trat\\xf3', u'asaltar', u'comerciante', u'originando', u'reacci\\xf3n', u'polic\\xedas', u'serenos', u'ser', u'perseguido', u'sujeto', u'hizo', u'disparos', u'aire', u'ingres\\xf3', u'restaurante', u'pepes', u'amenaz\\xf3', u'arma', u'mozos', u'ayuden', u'escapar', u'autoridades', u'sujeto', u'logr\\xf3', u'huir', u'techos', u'local', u'pese', u'agentes', u'revisaron', u'ambientes', u'coronel', u'pnp', u'walter', u'junes', u'jefe', u'divisi\\xf3n', u'policial', u'centro', u'ii', u'inform\\xf3', u'atv+', u'detuvo', u'sospechoso', u'autoridades', u'proceso', u'identificarlo', u'precis\\xf3', u'incaut\\xf3', u'autom\\xf3vil', u'versi\\xf3n', u'indica', u'originado', u'pelea', u'dos', u'bandos', u'presuntos', u'serenos', u'victoria', u'cobro', u'cupos', u'vendedores', u'ambulantes']\n"
     ]
    }
   ],
   "source": [
    "print(news_text[589]) "
   ]
  },
  {
   "cell_type": "markdown",
   "metadata": {},
   "source": [
    "# Doc2vec model"
   ]
  },
  {
   "cell_type": "code",
   "execution_count": 5,
   "metadata": {},
   "outputs": [],
   "source": [
    "model_dm = Doc2Vec.load(\"/home/gina_bustamante/data/pvdm/doc2vec_wikipedia_es_pvdm\")"
   ]
  },
  {
   "cell_type": "code",
   "execution_count": 6,
   "metadata": {},
   "outputs": [
    {
     "data": {
      "text/plain": [
       "(1257252, 300)"
      ]
     },
     "execution_count": 6,
     "metadata": {},
     "output_type": "execute_result"
    }
   ],
   "source": [
    "model_dm.docvecs.vectors_docs.shape"
   ]
  },
  {
   "cell_type": "code",
   "execution_count": 20,
   "metadata": {},
   "outputs": [
    {
     "data": {
      "text/plain": [
       "[('Joanne (álbum)', 0.6112508773803711),\n",
       " ('Bad Romance', 0.5922989845275879),\n",
       " ('Miley Cyrus', 0.5635408163070679),\n",
       " ('Britney Spears', 0.5561521649360657),\n",
       " ('Espectáculo de medio tiempo del Super Bowl LI', 0.551128625869751),\n",
       " ('Madonna', 0.5480135083198547),\n",
       " ('Lady Gaga Live at Roseland Ballroom', 0.544819176197052),\n",
       " ('Beautiful, Dirty, Rich', 0.5444865822792053),\n",
       " ('The Fame', 0.5428696274757385),\n",
       " ('Artpop', 0.5427246689796448)]"
      ]
     },
     "execution_count": 20,
     "metadata": {},
     "output_type": "execute_result"
    }
   ],
   "source": [
    "model_dm.docvecs.most_similar(\"Lady Gaga\")"
   ]
  },
  {
   "cell_type": "markdown",
   "metadata": {},
   "source": [
    "### Inferecia de vectores "
   ]
  },
  {
   "cell_type": "code",
   "execution_count": 11,
   "metadata": {},
   "outputs": [],
   "source": [
    "elcomercio_vectors = []"
   ]
  },
  {
   "cell_type": "code",
   "execution_count": 12,
   "metadata": {},
   "outputs": [],
   "source": [
    "for doc in news_text:\n",
    "    vector = model_dm.infer_vector(doc)\n",
    "    elcomercio_vectors.append(vector)"
   ]
  },
  {
   "cell_type": "markdown",
   "metadata": {},
   "source": [
    "### Vector media"
   ]
  },
  {
   "cell_type": "code",
   "execution_count": 13,
   "metadata": {},
   "outputs": [
    {
     "data": {
      "text/plain": [
       "(1423, 300)"
      ]
     },
     "execution_count": 13,
     "metadata": {},
     "output_type": "execute_result"
    }
   ],
   "source": [
    "elcomercio_vectors = np.asarray(elcomercio_vectors)\n",
    "elcomercio_vectors.shape"
   ]
  },
  {
   "cell_type": "code",
   "execution_count": 14,
   "metadata": {},
   "outputs": [],
   "source": [
    "mean_vector = []\n",
    "for vector in elcomercio_vectors.T:\n",
    "    mean_vector.append(np.mean(vector))"
   ]
  },
  {
   "cell_type": "code",
   "execution_count": 15,
   "metadata": {},
   "outputs": [
    {
     "data": {
      "text/plain": [
       "(1, 300)"
      ]
     },
     "execution_count": 15,
     "metadata": {},
     "output_type": "execute_result"
    }
   ],
   "source": [
    "mean_vector = np.array(mean_vector,ndmin=2)\n",
    "mean_vector.shape"
   ]
  },
  {
   "cell_type": "markdown",
   "metadata": {},
   "source": [
    "### Distancia de cada vector al vector media"
   ]
  },
  {
   "cell_type": "code",
   "execution_count": 16,
   "metadata": {},
   "outputs": [
    {
     "data": {
      "text/plain": [
       "(1, 1423)"
      ]
     },
     "execution_count": 16,
     "metadata": {},
     "output_type": "execute_result"
    }
   ],
   "source": [
    "dist = 1 - cosine_similarity(mean_vector, elcomercio_vectors)\n",
    "dist.shape"
   ]
  },
  {
   "cell_type": "code",
   "execution_count": 17,
   "metadata": {},
   "outputs": [
    {
     "name": "stdout",
     "output_type": "stream",
     "text": [
      "0.37674674\n",
      "0.06414437\n"
     ]
    }
   ],
   "source": [
    "dist_mean = np.mean(dist)\n",
    "print(dist_mean)\n",
    "st_mean = np.std(dist)\n",
    "print(st_mean)"
   ]
  },
  {
   "cell_type": "code",
   "execution_count": 18,
   "metadata": {},
   "outputs": [
    {
     "data": {
      "image/png": "[encoded data removed]",
      "text/plain": [
       "<Figure size 1080x720 with 1 Axes>"
      ]
     },
     "metadata": {},
     "output_type": "display_data"
    }
   ],
   "source": [
    "plt.figure(figsize=(15,10))\n",
    "p = sns.distplot(dist[0], color='green')\n",
    "\n",
    "x,y = p.get_lines()[0].get_data()\n",
    "cdf = scipy.integrate.cumtrapz(y, x, initial=0)\n",
    "nearest_05 = np.abs(cdf-0.5).argmin()\n",
    "x_median = x[nearest_05]\n",
    "y_median = y[nearest_05]\n",
    "plt.vlines(x_median, 0, y_median, color='black')\n",
    "\n",
    "plt.title('Distribución de distancias respecto al vector media\\n'.decode(\"utf8\"), fontsize=15, weight='medium')\n",
    "plt.savefig(\"dist_doc2vec_dm_elcomercio\")\n",
    "plt.show()"
   ]
  },
  {
   "cell_type": "markdown",
   "metadata": {},
   "source": [
    "Eliminamos los **docuemntos** que estén a mas allá de una desviación estándar del vector media"
   ]
  },
  {
   "cell_type": "code",
   "execution_count": 19,
   "metadata": {},
   "outputs": [],
   "source": [
    "del_index = []\n",
    "est = dist_mean + st_mean\n",
    "index = 0 \n",
    "for distancia in dist[0]:\n",
    "    if (abs(distancia) > est):\n",
    "        del_index.append(index)\n",
    "    index += 1"
   ]
  },
  {
   "cell_type": "code",
   "execution_count": 20,
   "metadata": {},
   "outputs": [
    {
     "name": "stdout",
     "output_type": "stream",
     "text": [
      "Cantidad de documentos a eliminar: 224\n",
      "[7, 9, 38, 39, 40, 61, 62, 66, 68, 77, 81, 104, 108, 116, 119, 125, 127, 129, 138, 142, 153, 172, 179, 181, 198, 206, 230, 232, 249, 255, 258, 264, 265, 272, 275, 299, 321, 326, 329, 331, 335, 339, 340, 348, 353, 362, 363, 397, 415, 432, 471, 500, 503, 506, 507, 509, 516, 548, 549, 567, 578, 583, 591, 600, 602, 607, 612, 613, 616, 619, 622, 626, 628, 633, 634, 660, 669, 672, 675, 683, 684, 690, 695, 708, 716, 718, 719, 739, 748, 753, 756, 778, 783, 784, 799, 802, 812, 827, 839, 840, 841, 843, 848, 852, 857, 868, 874, 878, 881, 901, 913, 920, 925, 931, 935, 939, 941, 946, 953, 978, 984, 998, 999, 1000, 1003, 1004, 1006, 1011, 1012, 1016, 1017, 1023, 1029, 1030, 1031, 1032, 1033, 1035, 1040, 1042, 1043, 1045, 1046, 1047, 1048, 1049, 1051, 1067, 1068, 1086, 1088, 1091, 1105, 1107, 1117, 1120, 1123, 1126, 1135, 1137, 1138, 1139, 1140, 1144, 1152, 1155, 1158, 1159, 1161, 1164, 1165, 1167, 1173, 1177, 1178, 1179, 1182, 1186, 1193, 1194, 1203, 1210, 1217, 1222, 1223, 1228, 1231, 1243, 1248, 1260, 1271, 1278, 1281, 1282, 1285, 1288, 1296, 1303, 1305, 1307, 1311, 1317, 1319, 1324, 1346, 1347, 1349, 1352, 1354, 1356, 1359, 1364, 1370, 1372, 1374, 1380, 1383, 1387, 1397, 1399, 1404, 1414, 1415, 1416]\n"
     ]
    }
   ],
   "source": [
    "print(\"Cantidad de documentos a eliminar: {}\".format(len(del_index)))\n",
    "print(del_index)"
   ]
  },
  {
   "cell_type": "code",
   "execution_count": 21,
   "metadata": {},
   "outputs": [
    {
     "name": "stdout",
     "output_type": "stream",
     "text": [
      "Asesinan a balazos a trabajadora del INPE en San Juan de Lurigancho\n"
     ]
    },
    {
     "data": {
      "text/plain": [
       "u'Selene Mabel Mart\\xednez Samame fue asesinada cruelmente esta tarde al salir del penal de Lurigancho , lugar donde trabajaba como personal de salud del Instituto Nacional Penitenciario (  INPE) desde el a\\xf1o 1996 . Seg\\xfan testigos , Selene Mart\\xednez hab\\xeda salido de trabajar y se dispon\\xeda a tomar un autob\\xfas , en el cruce de las avenidas El Sol con la avenida Santa Rosa , en San Juan de Lurigancho , cuando un sujeto a bordo de una motocicleta le dio dos disparos en la cabeza , muriendo instant\\xe1neamente . Un amigo de la v\\xedctima dijo para ATV+ que ella \\u201cera una persona tranquila , no ten\\xeda problemas con nadie\\u201d y ten\\xeda una labor asistencial . En comunicado , el  INPE indic\\xf3 que la muerte de Selene Mart\\xednez est\\xe1 en investigaci\\xf3n por la Polic\\xeda y el Ministerio P\\xfablico . Ella ingres\\xf3 al  INPE en el a\\xf1o 1996 , laborando en el programa de VIH , ubicado en la cl\\xednica del penal de Lurigancho . Dicha entidad lament\\xf3 la muerte de la trabajadora y expres\\xf3 sus condolencias a los familiares . '"
      ]
     },
     "execution_count": 21,
     "metadata": {},
     "output_type": "execute_result"
    }
   ],
   "source": [
    "#Ejemplo de noticia a eliminar\n",
    "print(news_titles[1416])\n",
    "news_complete_text[1416]"
   ]
  },
  {
   "cell_type": "markdown",
   "metadata": {},
   "source": [
    "# Eliminando los índices"
   ]
  },
  {
   "cell_type": "code",
   "execution_count": 22,
   "metadata": {},
   "outputs": [
    {
     "data": {
      "text/html": [
       "<div>\n",
       "<style scoped>\n",
       "    .dataframe tbody tr th:only-of-type {\n",
       "        vertical-align: middle;\n",
       "    }\n",
       "\n",
       "    .dataframe tbody tr th {\n",
       "        vertical-align: top;\n",
       "    }\n",
       "\n",
       "    .dataframe thead th {\n",
       "        text-align: right;\n",
       "    }\n",
       "</style>\n",
       "<table border=\"1\" class=\"dataframe\">\n",
       "  <thead>\n",
       "    <tr style=\"text-align: right;\">\n",
       "      <th></th>\n",
       "      <th>_id</th>\n",
       "      <th>date</th>\n",
       "      <th>link</th>\n",
       "      <th>newspaper_id</th>\n",
       "      <th>summary</th>\n",
       "      <th>tags</th>\n",
       "      <th>text</th>\n",
       "      <th>title</th>\n",
       "    </tr>\n",
       "  </thead>\n",
       "  <tbody>\n",
       "    <tr>\n",
       "      <th>0</th>\n",
       "      <td>5b500c11b8088d1edd461dab</td>\n",
       "      <td>15.07.2018</td>\n",
       "      <td>https://elcomercio.pe/lima/policiales/villa-sa...</td>\n",
       "      <td>5b4e1d15716274ac61dd2d99</td>\n",
       "      <td>Los sujetos fueron acusados de asaltar a una p...</td>\n",
       "      <td>[Villa El Salvador, linchamiento, linchar]</td>\n",
       "      <td>Dos hombres acusados de robar a una profesora ...</td>\n",
       "      <td>Villa El Salvador: vecinos casi linchan a pres...</td>\n",
       "    </tr>\n",
       "    <tr>\n",
       "      <th>1</th>\n",
       "      <td>5b500c12b8088d1edd461dac</td>\n",
       "      <td>15.07.2018</td>\n",
       "      <td>https://elcomercio.pe/lima/policiales/surquill...</td>\n",
       "      <td>5b4e1d15716274ac61dd2d99</td>\n",
       "      <td>La vivienda estaba hecha con material de 'trip...</td>\n",
       "      <td>[Surquillo, Incendio]</td>\n",
       "      <td>El propietario de un inmueble salvó de morir e...</td>\n",
       "      <td>Surquillo: hombre salva de morir en incendio d...</td>\n",
       "    </tr>\n",
       "    <tr>\n",
       "      <th>2</th>\n",
       "      <td>5b500c14b8088d1edd461dae</td>\n",
       "      <td>14.07.2018</td>\n",
       "      <td>https://elcomercio.pe/lima/policiales/villa-sa...</td>\n",
       "      <td>5b4e1d15716274ac61dd2d99</td>\n",
       "      <td>El establecimiento no contaba con licencia de ...</td>\n",
       "      <td>[Policía Nacional del Perú, Villa El Salvador,...</td>\n",
       "      <td>Personal de Fiscalización de la Municipalidad ...</td>\n",
       "      <td>Clausuran bar ‘El Encanto’ de Villa el Salvado...</td>\n",
       "    </tr>\n",
       "    <tr>\n",
       "      <th>3</th>\n",
       "      <td>5b500c15b8088d1edd461daf</td>\n",
       "      <td>14.07.2018</td>\n",
       "      <td>https://elcomercio.pe/lima/policiales/feminici...</td>\n",
       "      <td>5b4e1d15716274ac61dd2d99</td>\n",
       "      <td>Juan Isaac Palomino Fernández, 41, dejó una ca...</td>\n",
       "      <td>[Feminicidio, San Miguel]</td>\n",
       "      <td>El último miércoles , una mujer de 22 años fue...</td>\n",
       "      <td>Feminicidio en San Miguel: buscan a confeso as...</td>\n",
       "    </tr>\n",
       "    <tr>\n",
       "      <th>4</th>\n",
       "      <td>5b500c16b8088d1edd461db0</td>\n",
       "      <td>14.07.2018</td>\n",
       "      <td>https://elcomercio.pe/lima/policiales/violacio...</td>\n",
       "      <td>5b4e1d15716274ac61dd2d99</td>\n",
       "      <td>Robert Martínez Pinto es acusado de dopar y vi...</td>\n",
       "      <td>[Violación sexual, Independencia]</td>\n",
       "      <td>Nadie se explica cómo Robert Martínez Pinto nu...</td>\n",
       "      <td>Violaciones en Independencia: denuncian que fi...</td>\n",
       "    </tr>\n",
       "  </tbody>\n",
       "</table>\n",
       "</div>"
      ],
      "text/plain": [
       "                        _id        date  \\\n",
       "0  5b500c11b8088d1edd461dab  15.07.2018   \n",
       "1  5b500c12b8088d1edd461dac  15.07.2018   \n",
       "2  5b500c14b8088d1edd461dae  14.07.2018   \n",
       "3  5b500c15b8088d1edd461daf  14.07.2018   \n",
       "4  5b500c16b8088d1edd461db0  14.07.2018   \n",
       "\n",
       "                                                link  \\\n",
       "0  https://elcomercio.pe/lima/policiales/villa-sa...   \n",
       "1  https://elcomercio.pe/lima/policiales/surquill...   \n",
       "2  https://elcomercio.pe/lima/policiales/villa-sa...   \n",
       "3  https://elcomercio.pe/lima/policiales/feminici...   \n",
       "4  https://elcomercio.pe/lima/policiales/violacio...   \n",
       "\n",
       "               newspaper_id  \\\n",
       "0  5b4e1d15716274ac61dd2d99   \n",
       "1  5b4e1d15716274ac61dd2d99   \n",
       "2  5b4e1d15716274ac61dd2d99   \n",
       "3  5b4e1d15716274ac61dd2d99   \n",
       "4  5b4e1d15716274ac61dd2d99   \n",
       "\n",
       "                                             summary  \\\n",
       "0  Los sujetos fueron acusados de asaltar a una p...   \n",
       "1  La vivienda estaba hecha con material de 'trip...   \n",
       "2  El establecimiento no contaba con licencia de ...   \n",
       "3  Juan Isaac Palomino Fernández, 41, dejó una ca...   \n",
       "4  Robert Martínez Pinto es acusado de dopar y vi...   \n",
       "\n",
       "                                                tags  \\\n",
       "0         [Villa El Salvador, linchamiento, linchar]   \n",
       "1                              [Surquillo, Incendio]   \n",
       "2  [Policía Nacional del Perú, Villa El Salvador,...   \n",
       "3                          [Feminicidio, San Miguel]   \n",
       "4                  [Violación sexual, Independencia]   \n",
       "\n",
       "                                                text  \\\n",
       "0  Dos hombres acusados de robar a una profesora ...   \n",
       "1  El propietario de un inmueble salvó de morir e...   \n",
       "2  Personal de Fiscalización de la Municipalidad ...   \n",
       "3  El último miércoles , una mujer de 22 años fue...   \n",
       "4  Nadie se explica cómo Robert Martínez Pinto nu...   \n",
       "\n",
       "                                               title  \n",
       "0  Villa El Salvador: vecinos casi linchan a pres...  \n",
       "1  Surquillo: hombre salva de morir en incendio d...  \n",
       "2  Clausuran bar ‘El Encanto’ de Villa el Salvado...  \n",
       "3  Feminicidio en San Miguel: buscan a confeso as...  \n",
       "4  Violaciones en Independencia: denuncian que fi...  "
      ]
     },
     "execution_count": 22,
     "metadata": {},
     "output_type": "execute_result"
    }
   ],
   "source": [
    "news_df_complete.head()"
   ]
  },
  {
   "cell_type": "code",
   "execution_count": 23,
   "metadata": {},
   "outputs": [
    {
     "name": "stdout",
     "output_type": "stream",
     "text": [
      "Cantidad original de noticias: 1423\n",
      "Cantidad de noticias a eliminar: 224\n",
      "Porcentaje: 15.7413914266\n"
     ]
    }
   ],
   "source": [
    "print(\"Cantidad original de noticias: {}\".format(len(news_df_complete)))\n",
    "print(\"Cantidad de noticias a eliminar: {}\".format(len(del_index)))\n",
    "print(\"Porcentaje: {}\".format((len(del_index)/float(len(news_df_complete)))*100))"
   ]
  },
  {
   "cell_type": "code",
   "execution_count": 24,
   "metadata": {},
   "outputs": [],
   "source": [
    "news_df_filtered = news_df_complete.drop(del_index)"
   ]
  },
  {
   "cell_type": "code",
   "execution_count": 25,
   "metadata": {},
   "outputs": [
    {
     "name": "stdout",
     "output_type": "stream",
     "text": [
      "Cantidad de noticias después de filtrar: 1199\n"
     ]
    }
   ],
   "source": [
    "print(\"Cantidad de noticias después de filtrar: {}\".format(len(news_df_filtered)))"
   ]
  },
  {
   "cell_type": "code",
   "execution_count": 26,
   "metadata": {},
   "outputs": [],
   "source": [
    "newsdb_elcomercio_filtered = db['news_elcomercio_filtered_dm']"
   ]
  },
  {
   "cell_type": "code",
   "execution_count": 27,
   "metadata": {},
   "outputs": [],
   "source": [
    "#Guardamos las noticias filtradas en una nueva colleción\n",
    "for index, row in news_df_filtered.iterrows():\n",
    "    row_dict = row.to_dict()\n",
    "    newsdb_elcomercio_filtered.insert_one(row_dict)"
   ]
  }
 ],
 "metadata": {
  "kernelspec": {
   "display_name": "Python 3",
   "language": "python",
   "name": "python3"
  },
  "language_info": {
   "codemirror_mode": {
    "name": "ipython",
    "version": 3
   },
   "file_extension": ".py",
   "mimetype": "text/x-python",
   "name": "python",
   "nbconvert_exporter": "python",
   "pygments_lexer": "ipython3",
   "version": "3.5.3"
  }
 },
 "nbformat": 4,
 "nbformat_minor": 2
}
