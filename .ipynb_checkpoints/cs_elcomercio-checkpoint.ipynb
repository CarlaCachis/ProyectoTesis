{
 "cells": [
  {
   "cell_type": "code",
   "execution_count": 1,
   "metadata": {},
   "outputs": [],
   "source": [
    "%load_ext autoreload\n",
    "%autoreload 2\n",
    "import gensim\n",
    "import os\n",
    "import collections\n",
    "import pymongo\n",
    "import scipy\n",
    "import pandas as pd\n",
    "import numpy as np\n",
    "from nltk.corpus import stopwords\n",
    "from gensim.models.doc2vec import Doc2Vec, TaggedDocument\n",
    "from gensim.test.utils import get_tmpfile\n",
    "from sklearn.metrics.pairwise import cosine_similarity\n",
    "import matplotlib.pyplot as plt\n",
    "import seaborn as sns\n",
    "import warnings"
   ]
  },
  {
   "cell_type": "code",
   "execution_count": 2,
   "metadata": {},
   "outputs": [],
   "source": [
    "warnings.filterwarnings('ignore')\n",
    "sns.set()"
   ]
  },
  {
   "cell_type": "markdown",
   "metadata": {},
   "source": [
    "# Base de datos"
   ]
  },
  {
   "cell_type": "code",
   "execution_count": 3,
   "metadata": {},
   "outputs": [
    {
     "name": "stdout",
     "output_type": "stream",
     "text": [
      "La cantidad de noticias totales del periódico El Comercio es: 1423\n",
      "La cantidad de noticias totales (preprocesadas) del periódico El Comercia es: 1423\n"
     ]
    }
   ],
   "source": [
    "client = pymongo.MongoClient(\"mongodb://34.228.30.11/crime_inf_test\")\n",
    "db = client['crime_inf_test']\n",
    "newsdb_elcomercio = db['news_elcomercio']\n",
    "newsdb_elcomercio_prep = db['news_elcomercio_prep']\n",
    "print(\"La cantidad de noticias totales del periódico El Comercio es: {}\".format(newsdb_elcomercio.find({}).count()))\n",
    "print(\"La cantidad de noticias totales (preprocesadas) del periódico El Comercio es: {}\".format(newsdb_elcomercio_prep.find({}).count()))"
   ]
  },
  {
   "cell_type": "code",
   "execution_count": 4,
   "metadata": {},
   "outputs": [],
   "source": [
    "news_complete = newsdb_elcomercio.find({})\n",
    "news = newsdb_elcomercio_prep.find({})"
   ]
  },
  {
   "cell_type": "code",
   "execution_count": 5,
   "metadata": {},
   "outputs": [],
   "source": [
    "news_df_complete = pd.DataFrame(list(news_complete))\n",
    "news_df = pd.DataFrame(list(news))"
   ]
  },
  {
   "cell_type": "code",
   "execution_count": 6,
   "metadata": {},
   "outputs": [],
   "source": [
    "news_complete_text = list(news_df_complete['text'])\n",
    "news_titles = list(news_df_complete['title'])\n",
    "news_text = list(news_df['text']) #guardamos el texto preprocesado en otra lista"
   ]
  },
  {
   "cell_type": "code",
   "execution_count": 7,
   "metadata": {},
   "outputs": [
    {
     "name": "stdout",
     "output_type": "stream",
     "text": [
      "['pánico', 'apoderó', 'comerciantes', 'personas', 'van', 'comprar', 'emporio', 'comercial', 'gamarra', 'victoria', 'tarde', 'desató', 'balacera', 'enfrentamiento', 'policía', 'nacional', 'delincuentes.los', 'testigos', 'contaron', 'originó', 'cruce', 'jirones', 'antonio', 'bazo', 'gamarra', 'hampones', 'trató', 'asaltar', 'comerciante', 'originando', 'reacción', 'policías', 'serenos.al', 'ser', 'perseguido', 'sujeto', 'hizo', 'disparos', 'aire', 'ingresó', 'restaurante', 'pepes', 'amenazó', 'arma', 'mozos', 'ayuden', 'escapar', 'autoridades.el', 'sujeto', 'logró', 'huir', 'techos', 'local', 'pese', 'agentes', 'revisaron', 'ambientes', 'coronel', 'pnp', 'walter', 'junes', 'jefe', 'división', 'policial', 'centro', 'ii', 'informó', 'atv+', 'detuvo', 'sospechoso', 'autoridades', 'proceso', 'identificarlo', 'precisó', 'incautó', 'automóvil.otra', 'versión', 'indica', 'originado', 'pelea', 'dos', 'bandos', 'presuntos', 'serenos', 'victoria', 'cobro', 'cupos', 'vendedores', 'ambulantes']\n"
     ]
    }
   ],
   "source": [
    "print(news_text[589]) "
   ]
  },
  {
   "cell_type": "markdown",
   "metadata": {},
   "source": [
    "# Tagged Document"
   ]
  },
  {
   "cell_type": "code",
   "execution_count": 8,
   "metadata": {},
   "outputs": [],
   "source": [
    "tagged_documents = []\n",
    "index = 0\n",
    "for new in news_text:\n",
    "    tagged_documents.append(TaggedDocument(new, [index]))\n",
    "    index += 1"
   ]
  },
  {
   "cell_type": "code",
   "execution_count": 9,
   "metadata": {},
   "outputs": [
    {
     "data": {
      "text/plain": [
       "'El pánico se apoderó de los comerciantes y de las personas que van a comprar al emporio comercial de Gamarra, en La Victoria, ya que esta tarde se desató una balacera durante un enfrentamiento entre la Policía Nacional y delincuentes.Los testigos contaron que todo se originó en el cruce de los jirones Antonio Bazo y Gamarra, cuando uno de los hampones trató de asaltar a un comerciante, originando la reacción de los policías y serenos.Al ser perseguido, el sujeto hizo disparos al aire e ingresó al restaurante Los Pepes y amenazó con su arma a los mozos para que le ayuden a escapar de las autoridades.El sujeto logró huir por los techos del local, pese a que las agentes revisaron por todos los ambientes. El coronel PNP Walter Junes, jefe de la División Policial Centro II, informó a ATV+ que se detuvo a un sospechoso y que las autoridades están en proceso de identificarlo. También precisó que se incautó un automóvil.Otra versión indica que todo se habría originado por la pelea entre dos bandos de presuntos serenos de La Victoria por el cobro de cupos a los vendedores ambulantes.'"
      ]
     },
     "execution_count": 9,
     "metadata": {},
     "output_type": "execute_result"
    }
   ],
   "source": [
    "news_complete_text[589]"
   ]
  },
  {
   "cell_type": "code",
   "execution_count": 10,
   "metadata": {},
   "outputs": [
    {
     "data": {
      "text/plain": [
       "TaggedDocument(words=['pánico', 'apoderó', 'comerciantes', 'personas', 'van', 'comprar', 'emporio', 'comercial', 'gamarra', 'victoria', 'tarde', 'desató', 'balacera', 'enfrentamiento', 'policía', 'nacional', 'delincuentes.los', 'testigos', 'contaron', 'originó', 'cruce', 'jirones', 'antonio', 'bazo', 'gamarra', 'hampones', 'trató', 'asaltar', 'comerciante', 'originando', 'reacción', 'policías', 'serenos.al', 'ser', 'perseguido', 'sujeto', 'hizo', 'disparos', 'aire', 'ingresó', 'restaurante', 'pepes', 'amenazó', 'arma', 'mozos', 'ayuden', 'escapar', 'autoridades.el', 'sujeto', 'logró', 'huir', 'techos', 'local', 'pese', 'agentes', 'revisaron', 'ambientes', 'coronel', 'pnp', 'walter', 'junes', 'jefe', 'división', 'policial', 'centro', 'ii', 'informó', 'atv+', 'detuvo', 'sospechoso', 'autoridades', 'proceso', 'identificarlo', 'precisó', 'incautó', 'automóvil.otra', 'versión', 'indica', 'originado', 'pelea', 'dos', 'bandos', 'presuntos', 'serenos', 'victoria', 'cobro', 'cupos', 'vendedores', 'ambulantes'], tags=[589])"
      ]
     },
     "execution_count": 10,
     "metadata": {},
     "output_type": "execute_result"
    }
   ],
   "source": [
    "tagged_documents[589]"
   ]
  },
  {
   "cell_type": "markdown",
   "metadata": {},
   "source": [
    "# Doc2vec model"
   ]
  },
  {
   "cell_type": "code",
   "execution_count": 12,
   "metadata": {},
   "outputs": [],
   "source": [
    "#dm=1 | paragraph vector distributed memory (PV-DM)\n",
    "#hs=1 | hierachical softmax \n",
    "model = Doc2Vec(dm=1, vector_size=300, window=6, min_count=2, epochs=100, hs=1)"
   ]
  },
  {
   "cell_type": "markdown",
   "metadata": {},
   "source": [
    "#### Generación del vocabulario"
   ]
  },
  {
   "cell_type": "code",
   "execution_count": 13,
   "metadata": {},
   "outputs": [
    {
     "name": "stdout",
     "output_type": "stream",
     "text": [
      "Tamaño del vocabulario: 10326\n"
     ]
    }
   ],
   "source": [
    "model.build_vocab(tagged_documents)\n",
    "print(\"Tamaño del vocabulario: {}\".format(len(model.wv.vocab)))"
   ]
  },
  {
   "cell_type": "markdown",
   "metadata": {},
   "source": [
    "#### Entrenamiento del modelo"
   ]
  },
  {
   "cell_type": "code",
   "execution_count": 14,
   "metadata": {},
   "outputs": [],
   "source": [
    "model.train(tagged_documents, total_examples=model.corpus_count, epochs=model.epochs)"
   ]
  },
  {
   "cell_type": "markdown",
   "metadata": {},
   "source": [
    "#### Accediendo al modelo"
   ]
  },
  {
   "cell_type": "code",
   "execution_count": 11,
   "metadata": {},
   "outputs": [],
   "source": [
    "model = Doc2Vec.load(\"doc2vec_elcomercio\")"
   ]
  },
  {
   "cell_type": "code",
   "execution_count": 12,
   "metadata": {},
   "outputs": [
    {
     "name": "stdout",
     "output_type": "stream",
     "text": [
      "Mujer que desfiguró a venezolana sigue en libertad\n"
     ]
    },
    {
     "data": {
      "text/plain": [
       "'Ha pasado una semana desde que una menor venezolana de 17 años fue desfigurada en Surquillo; sin embargo hasta el momento no se ha logrado detener a nadie por la agresión.Dariana Luna, hermana de la víctima, indicó que acudieron al Ministerio Público para realizar la denuncia y pedir protección, tras notar algunas actitudes sospechosas en la comisaría San Antonio de Surquillo, entre el policía que tomó sus declaraciones y la pareja de Claudia Gein, principal acusada por la agresión.\"Me pareció que se conocen y no me dio buena espina\", dijo Guillermo Luna Castillo, también hermano de la menor, por lo que acudieron directamente al Ministerio Público. En la comisaría de San Antonio solo habrían recibido una notificación.En el marco de este caso de agresión, el Ministerio de Justicia y Derechos Humanos dispuso que la defensa pública del sector brinde ayuda legal y gratuita a la adolescente venezolana que fue agredida.- Premeditación -\"Para mí fue un intento de homicidio porque fue premeditado\", indicó Dariana Luna en diálogo con Radio Programas, pues su hermana recibió varias amenazas y agresiones verbales por su nacionalidad antes de ser atacada.Luna señaló que la menor ha recibido hasta 40 puntos en el rostro por cirugía que se le realizó para cubrir los cortes que le provocaron con una hoja de afeitar. Son dos mujeres las acusadas.'"
      ]
     },
     "execution_count": 12,
     "metadata": {},
     "output_type": "execute_result"
    }
   ],
   "source": [
    "print(news_titles[745])\n",
    "news_complete_text[745]"
   ]
  },
  {
   "cell_type": "code",
   "execution_count": 13,
   "metadata": {},
   "outputs": [
    {
     "name": "stdout",
     "output_type": "stream",
     "text": [
      "[(859, 0.3510318398475647), (762, 0.3423957824707031), (511, 0.3385379910469055), (733, 0.32686764001846313), (114, 0.308154433965683), (1233, 0.30270057916641235), (1202, 0.30141809582710266), (476, 0.29315876960754395), (776, 0.2882930040359497), (348, 0.2836064100265503)]\n"
     ]
    }
   ],
   "source": [
    "print (model.docvecs.most_similar(745))"
   ]
  },
  {
   "cell_type": "code",
   "execution_count": 14,
   "metadata": {},
   "outputs": [
    {
     "name": "stdout",
     "output_type": "stream",
     "text": [
      "Venezolana fue desfigurada en Surquillo por esposa de su jefe\n"
     ]
    },
    {
     "data": {
      "text/plain": [
       "'Vino hace tres meses a nuestro país y terminó desfigurada, tras soportar constantes amenazas y agresiones verbales por parte de la esposa de quien le dio trabajo.Se trata de una joven venezolana de 17 años que el lunes recibió múltiples cortes en el rostro cuando se encontraba en la tienda de repuestos \"Jhonsy Kar\" donde laboraba, en Surquillo. La denuncia se realizó en la comisaría San Antonio del distrito.Andrea Materán Jiménez, cuñada de la joven agredida, contó a El Comercio que la agresión ocurrió a las 4 de la tarde, cuando Claudia Gein habría aprovechado la poca cantidad de público para realizar varios cortes en el rostro de la menor con una hoja de afeitar, la golpeó y hasta le cortó el cabello, ayudada por otra mujer.\"Ella le decía que la iba a matar, que le iba a dañar la cara porque era muy bonita, que se fuera, que se volviera para su país\", dijo Materán sobre algunos insultos que recibía la menor venezolana, quien incluso era discriminaba por su nacionalidad. \"Ella pensaba que tenía una relación con el esposo. Después nos hemos enterado que le ha hecho eso a varias mujeres que también son bonitas\", añadió.Pese a la denuncia policial y a los daños causados, la Policía Nacional no ha realizado ninguna detención hasta el momento. La joven fue atendida en hospital José Casimiro Ulloa, en Miraflores, en donde le colocaron varios puntos de sutura en el rostro.'"
      ]
     },
     "execution_count": 14,
     "metadata": {},
     "output_type": "execute_result"
    }
   ],
   "source": [
    "print(news_titles[762])\n",
    "news_complete_text[762]"
   ]
  },
  {
   "cell_type": "code",
   "execution_count": 18,
   "metadata": {},
   "outputs": [],
   "source": [
    "#model.save(\"doc2vec_elcomercio\")"
   ]
  },
  {
   "cell_type": "markdown",
   "metadata": {},
   "source": [
    "# Cosine Similarity"
   ]
  },
  {
   "cell_type": "code",
   "execution_count": 15,
   "metadata": {},
   "outputs": [
    {
     "data": {
      "text/plain": [
       "(1423, 300)"
      ]
     },
     "execution_count": 15,
     "metadata": {},
     "output_type": "execute_result"
    }
   ],
   "source": [
    "model.docvecs.vectors_docs.shape"
   ]
  },
  {
   "cell_type": "markdown",
   "metadata": {},
   "source": [
    "#### Vector media"
   ]
  },
  {
   "cell_type": "code",
   "execution_count": 16,
   "metadata": {},
   "outputs": [],
   "source": [
    "mean_vector = []\n",
    "for colum in model.docvecs.vectors_docs.T:\n",
    "    mean_vector.append(np.mean(colum))"
   ]
  },
  {
   "cell_type": "code",
   "execution_count": 17,
   "metadata": {},
   "outputs": [
    {
     "data": {
      "text/plain": [
       "(1, 300)"
      ]
     },
     "execution_count": 17,
     "metadata": {},
     "output_type": "execute_result"
    }
   ],
   "source": [
    "mean_vector = np.array(mean_vector,ndmin=2)\n",
    "mean_vector.shape"
   ]
  },
  {
   "cell_type": "markdown",
   "metadata": {},
   "source": [
    "#### Distancia de cada vector al vector media"
   ]
  },
  {
   "cell_type": "code",
   "execution_count": 18,
   "metadata": {},
   "outputs": [
    {
     "data": {
      "text/plain": [
       "(1, 1423)"
      ]
     },
     "execution_count": 18,
     "metadata": {},
     "output_type": "execute_result"
    }
   ],
   "source": [
    "dist = 1 - cosine_similarity(mean_vector, model.docvecs.vectors_docs)\n",
    "dist.shape"
   ]
  },
  {
   "cell_type": "code",
   "execution_count": 19,
   "metadata": {},
   "outputs": [
    {
     "name": "stdout",
     "output_type": "stream",
     "text": [
      "0.64367074\n",
      "0.027730733\n"
     ]
    }
   ],
   "source": [
    "dist_mean = np.mean(dist)\n",
    "print(dist_mean)\n",
    "st_mean = np.std(dist)\n",
    "print(st_mean)"
   ]
  },
  {
   "cell_type": "code",
   "execution_count": 20,
   "metadata": {},
   "outputs": [
    {
     "data": {
      "image/png": "[encoded data removed]",
      "text/plain": [
       "<matplotlib.figure.Figure at 0x7f161c285c18>"
      ]
     },
     "metadata": {},
     "output_type": "display_data"
    }
   ],
   "source": [
    "plt.figure(figsize=(15,10))\n",
    "p = sns.distplot(dist[0], color='green')\n",
    "\n",
    "x,y = p.get_lines()[0].get_data()\n",
    "cdf = scipy.integrate.cumtrapz(y, x, initial=0)\n",
    "nearest_05 = np.abs(cdf-0.5).argmin()\n",
    "x_median = x[nearest_05]\n",
    "y_median = y[nearest_05]\n",
    "plt.vlines(x_median, 0, y_median, color='black')\n",
    "plt.title('Distribución de distancias respecto al vector media\\n', fontsize=15, weight='medium')\n",
    "plt.show()"
   ]
  },
  {
   "cell_type": "markdown",
   "metadata": {},
   "source": [
    "Eliminamos los que estén a mas allá de una desviación estándar del vector media"
   ]
  },
  {
   "cell_type": "code",
   "execution_count": 21,
   "metadata": {},
   "outputs": [],
   "source": [
    "del_index = []\n",
    "est = dist_mean + st_mean\n",
    "index = 0 \n",
    "for distancia in dist[0]:\n",
    "    if (abs(distancia) > est):\n",
    "        del_index.append(index)\n",
    "    index += 1"
   ]
  },
  {
   "cell_type": "code",
   "execution_count": 22,
   "metadata": {},
   "outputs": [
    {
     "name": "stdout",
     "output_type": "stream",
     "text": [
      "Cantidad de documentos a eliminar: 217\n",
      "[1, 4, 5, 13, 14, 15, 17, 32, 35, 47, 60, 79, 80, 88, 89, 90, 93, 101, 103, 108, 114, 115, 121, 122, 125, 126, 140, 144, 151, 160, 189, 192, 194, 195, 201, 205, 213, 224, 229, 231, 242, 243, 244, 277, 280, 284, 286, 288, 291, 295, 297, 302, 317, 319, 320, 321, 325, 344, 349, 350, 351, 354, 357, 360, 362, 366, 398, 404, 411, 414, 415, 417, 422, 426, 437, 444, 445, 450, 470, 472, 475, 478, 482, 485, 490, 496, 500, 502, 513, 528, 538, 549, 558, 562, 563, 564, 568, 569, 574, 595, 599, 610, 614, 618, 620, 622, 625, 643, 653, 654, 657, 666, 669, 682, 687, 688, 690, 698, 704, 708, 738, 744, 745, 747, 752, 756, 764, 765, 767, 769, 777, 778, 790, 814, 825, 835, 838, 853, 855, 869, 870, 872, 877, 899, 900, 915, 934, 936, 940, 941, 947, 951, 961, 968, 970, 977, 985, 987, 992, 993, 1016, 1017, 1060, 1083, 1089, 1096, 1102, 1109, 1129, 1130, 1131, 1141, 1145, 1148, 1150, 1152, 1154, 1155, 1164, 1168, 1185, 1188, 1202, 1206, 1208, 1218, 1245, 1247, 1250, 1254, 1255, 1256, 1257, 1259, 1260, 1261, 1269, 1280, 1284, 1297, 1301, 1302, 1313, 1316, 1335, 1336, 1341, 1345, 1346, 1360, 1363, 1368, 1393, 1399, 1410, 1416, 1420]\n"
     ]
    }
   ],
   "source": [
    "print(\"Cantidad de documentos a eliminar: {}\".format(len(del_index)))\n",
    "print(del_index)"
   ]
  },
  {
   "cell_type": "code",
   "execution_count": 23,
   "metadata": {},
   "outputs": [
    {
     "name": "stdout",
     "output_type": "stream",
     "text": [
      "Callao: dictan 9 meses de prisión preventiva para tres policías acusados de extorsión\n"
     ]
    },
    {
     "data": {
      "text/plain": [
       "'El Poder Judicial dictó nueve meses de prisión preventiva para tres policías de la comisaría de Bellavista, en el Callao, investigados por presuntamente exigir el pago de S/ 20.000 a cambio de liberar a un ciudadano detenido irregularmente.Se trata de los policías Bryan Pérez Peña, Erick Huayanay Pozo y Eduardo Corrilloclla Arias, quienes fueron acusados por la fiscal Irma Soldevilla Barrientos, de la Primera Fiscalía Provincial Penal Corporativa del Callao, por la presunta comisión de los delitos de extorsión y secuestro.El hecho materia de investigación ocurrió el pasado 13 de julio cuando la víctima, identificada como Iván Eduardo Vargas Cuadras, fue intervenida, mientras conducía su vehículo, por los agentes policiales.Según la investigación fiscal, los policías trasladaron a Vargas Cuadras hacia una zona desconocida. Posteriormente, se habrían comunicado con la familia del detenido para exigir el pago de S/20.000 a cambio de dejarlo en libertad. El dinero fue entregado la tarde del mismo día en la puerta 4 de la Universidad Nacional Mayor de San Marcos.Tras lograr su liberación, la víctima denunció el hecho ante las autoridades. Los miembros policiales fueron identificados mediante las cámaras de seguridad del lugar. '"
      ]
     },
     "execution_count": 23,
     "metadata": {},
     "output_type": "execute_result"
    }
   ],
   "source": [
    "#Ejemplo de noticia a eliminar\n",
    "print(news_titles[1060])\n",
    "news_complete_text[1060]"
   ]
  },
  {
   "cell_type": "markdown",
   "metadata": {},
   "source": [
    "# Eliminando los índices"
   ]
  },
  {
   "cell_type": "code",
   "execution_count": 24,
   "metadata": {},
   "outputs": [
    {
     "data": {
      "text/html": [
       "<div>\n",
       "<style scoped>\n",
       "    .dataframe tbody tr th:only-of-type {\n",
       "        vertical-align: middle;\n",
       "    }\n",
       "\n",
       "    .dataframe tbody tr th {\n",
       "        vertical-align: top;\n",
       "    }\n",
       "\n",
       "    .dataframe thead th {\n",
       "        text-align: right;\n",
       "    }\n",
       "</style>\n",
       "<table border=\"1\" class=\"dataframe\">\n",
       "  <thead>\n",
       "    <tr style=\"text-align: right;\">\n",
       "      <th></th>\n",
       "      <th>_id</th>\n",
       "      <th>date</th>\n",
       "      <th>link</th>\n",
       "      <th>newspaper_id</th>\n",
       "      <th>summary</th>\n",
       "      <th>tags</th>\n",
       "      <th>text</th>\n",
       "      <th>title</th>\n",
       "    </tr>\n",
       "  </thead>\n",
       "  <tbody>\n",
       "    <tr>\n",
       "      <th>0</th>\n",
       "      <td>5b500c11b8088d1edd461dab</td>\n",
       "      <td>15.07.2018</td>\n",
       "      <td>https://elcomercio.pe/lima/policiales/villa-sa...</td>\n",
       "      <td>5b4e1d15716274ac61dd2d99</td>\n",
       "      <td>Los sujetos fueron acusados de asaltar a una p...</td>\n",
       "      <td>[Villa El Salvador, linchamiento, linchar]</td>\n",
       "      <td>Dos hombres acusados de robar a una profesora ...</td>\n",
       "      <td>Villa El Salvador: vecinos casi linchan a pres...</td>\n",
       "    </tr>\n",
       "    <tr>\n",
       "      <th>1</th>\n",
       "      <td>5b500c12b8088d1edd461dac</td>\n",
       "      <td>15.07.2018</td>\n",
       "      <td>https://elcomercio.pe/lima/policiales/surquill...</td>\n",
       "      <td>5b4e1d15716274ac61dd2d99</td>\n",
       "      <td>La vivienda estaba hecha con material de 'trip...</td>\n",
       "      <td>[Surquillo, Incendio]</td>\n",
       "      <td>El propietario de un inmueble salvó de morir e...</td>\n",
       "      <td>Surquillo: hombre salva de morir en incendio d...</td>\n",
       "    </tr>\n",
       "    <tr>\n",
       "      <th>2</th>\n",
       "      <td>5b500c14b8088d1edd461dae</td>\n",
       "      <td>14.07.2018</td>\n",
       "      <td>https://elcomercio.pe/lima/policiales/villa-sa...</td>\n",
       "      <td>5b4e1d15716274ac61dd2d99</td>\n",
       "      <td>El establecimiento no contaba con licencia de ...</td>\n",
       "      <td>[Policía Nacional del Perú, Villa El Salvador,...</td>\n",
       "      <td>Personal de Fiscalización de la Municipalidad ...</td>\n",
       "      <td>Clausuran bar ‘El Encanto’ de Villa el Salvado...</td>\n",
       "    </tr>\n",
       "    <tr>\n",
       "      <th>3</th>\n",
       "      <td>5b500c15b8088d1edd461daf</td>\n",
       "      <td>14.07.2018</td>\n",
       "      <td>https://elcomercio.pe/lima/policiales/feminici...</td>\n",
       "      <td>5b4e1d15716274ac61dd2d99</td>\n",
       "      <td>Juan Isaac Palomino Fernández, 41, dejó una ca...</td>\n",
       "      <td>[Feminicidio, San Miguel]</td>\n",
       "      <td>El último miércoles, una mujer de 22 años fue ...</td>\n",
       "      <td>Feminicidio en San Miguel: buscan a confeso as...</td>\n",
       "    </tr>\n",
       "    <tr>\n",
       "      <th>4</th>\n",
       "      <td>5b500c16b8088d1edd461db0</td>\n",
       "      <td>14.07.2018</td>\n",
       "      <td>https://elcomercio.pe/lima/policiales/violacio...</td>\n",
       "      <td>5b4e1d15716274ac61dd2d99</td>\n",
       "      <td>Robert Martínez Pinto es acusado de dopar y vi...</td>\n",
       "      <td>[Violación sexual, Independencia]</td>\n",
       "      <td>Nadie se explica cómo Robert Martínez Pinto nu...</td>\n",
       "      <td>Violaciones en Independencia: denuncian que fi...</td>\n",
       "    </tr>\n",
       "  </tbody>\n",
       "</table>\n",
       "</div>"
      ],
      "text/plain": [
       "                        _id        date  \\\n",
       "0  5b500c11b8088d1edd461dab  15.07.2018   \n",
       "1  5b500c12b8088d1edd461dac  15.07.2018   \n",
       "2  5b500c14b8088d1edd461dae  14.07.2018   \n",
       "3  5b500c15b8088d1edd461daf  14.07.2018   \n",
       "4  5b500c16b8088d1edd461db0  14.07.2018   \n",
       "\n",
       "                                                link  \\\n",
       "0  https://elcomercio.pe/lima/policiales/villa-sa...   \n",
       "1  https://elcomercio.pe/lima/policiales/surquill...   \n",
       "2  https://elcomercio.pe/lima/policiales/villa-sa...   \n",
       "3  https://elcomercio.pe/lima/policiales/feminici...   \n",
       "4  https://elcomercio.pe/lima/policiales/violacio...   \n",
       "\n",
       "               newspaper_id  \\\n",
       "0  5b4e1d15716274ac61dd2d99   \n",
       "1  5b4e1d15716274ac61dd2d99   \n",
       "2  5b4e1d15716274ac61dd2d99   \n",
       "3  5b4e1d15716274ac61dd2d99   \n",
       "4  5b4e1d15716274ac61dd2d99   \n",
       "\n",
       "                                             summary  \\\n",
       "0  Los sujetos fueron acusados de asaltar a una p...   \n",
       "1  La vivienda estaba hecha con material de 'trip...   \n",
       "2  El establecimiento no contaba con licencia de ...   \n",
       "3  Juan Isaac Palomino Fernández, 41, dejó una ca...   \n",
       "4  Robert Martínez Pinto es acusado de dopar y vi...   \n",
       "\n",
       "                                                tags  \\\n",
       "0         [Villa El Salvador, linchamiento, linchar]   \n",
       "1                              [Surquillo, Incendio]   \n",
       "2  [Policía Nacional del Perú, Villa El Salvador,...   \n",
       "3                          [Feminicidio, San Miguel]   \n",
       "4                  [Violación sexual, Independencia]   \n",
       "\n",
       "                                                text  \\\n",
       "0  Dos hombres acusados de robar a una profesora ...   \n",
       "1  El propietario de un inmueble salvó de morir e...   \n",
       "2  Personal de Fiscalización de la Municipalidad ...   \n",
       "3  El último miércoles, una mujer de 22 años fue ...   \n",
       "4  Nadie se explica cómo Robert Martínez Pinto nu...   \n",
       "\n",
       "                                               title  \n",
       "0  Villa El Salvador: vecinos casi linchan a pres...  \n",
       "1  Surquillo: hombre salva de morir en incendio d...  \n",
       "2  Clausuran bar ‘El Encanto’ de Villa el Salvado...  \n",
       "3  Feminicidio en San Miguel: buscan a confeso as...  \n",
       "4  Violaciones en Independencia: denuncian que fi...  "
      ]
     },
     "execution_count": 24,
     "metadata": {},
     "output_type": "execute_result"
    }
   ],
   "source": [
    "news_df_complete.head()"
   ]
  },
  {
   "cell_type": "code",
   "execution_count": 25,
   "metadata": {},
   "outputs": [
    {
     "name": "stdout",
     "output_type": "stream",
     "text": [
      "Cantidad original de noticias: 1423\n",
      "Cantidad de noticias a eliminar: 217\n",
      "Porcentaje: 15.249472944483486\n"
     ]
    }
   ],
   "source": [
    "print(\"Cantidad original de noticias: {}\".format(len(news_df_complete)))\n",
    "print(\"Cantidad de noticias a eliminar: {}\".format(len(del_index)))\n",
    "print(\"Porcentaje: {}\".format(len(del_index)/len(news_df_complete)*100))"
   ]
  },
  {
   "cell_type": "code",
   "execution_count": 26,
   "metadata": {},
   "outputs": [],
   "source": [
    "news_df_filtered = news_df_complete.drop(del_index)"
   ]
  },
  {
   "cell_type": "code",
   "execution_count": 27,
   "metadata": {},
   "outputs": [
    {
     "name": "stdout",
     "output_type": "stream",
     "text": [
      "Cantidad de noticias después de filtrar: 1206\n"
     ]
    }
   ],
   "source": [
    "print(\"Cantidad de noticias después de filtrar: {}\".format(len(news_df_filtered)))"
   ]
  },
  {
   "cell_type": "code",
   "execution_count": 49,
   "metadata": {},
   "outputs": [],
   "source": [
    "#newsdb_elcomercio_filtered = db['news_elcomercio_filtered']"
   ]
  },
  {
   "cell_type": "code",
   "execution_count": 50,
   "metadata": {},
   "outputs": [],
   "source": [
    "'''\n",
    "#Guardamos las noticias filtradas en una nueva colleción\n",
    "for index, row in news_df_filtered.iterrows():\n",
    "    row_dict = row.to_dict()\n",
    "    newsdb_elcomercio_filtered.insert_one(row_dict)\n",
    "'''"
   ]
  },
  {
   "cell_type": "code",
   "execution_count": 30,
   "metadata": {},
   "outputs": [],
   "source": [
    "#newsdb_elcomercio_filtered_v2 = db['news_elcomercio_filtered_v2']"
   ]
  },
  {
   "cell_type": "code",
   "execution_count": 31,
   "metadata": {},
   "outputs": [],
   "source": [
    "#Guardamos las noticias filtradas en una nueva colleción\n",
    "'''\n",
    "for index, row in news_df_filtered.iterrows():\n",
    "    row_dict = row.to_dict()\n",
    "    text = row_dict['title'] + \"\\n\\n\" + row_dict['summary'] + \"\\n\\n\" + row_dict['text']\n",
    "    row_dict['text'] = text\n",
    "    newsdb_elcomercio_filtered_v2.insert_one(row_dict)\n",
    "'''"
   ]
  }
 ],
 "metadata": {
  "kernelspec": {
   "display_name": "Python 3",
   "language": "python",
   "name": "python3"
  },
  "language_info": {
   "codemirror_mode": {
    "name": "ipython",
    "version": 3
   },
   "file_extension": ".py",
   "mimetype": "text/x-python",
   "name": "python",
   "nbconvert_exporter": "python",
   "pygments_lexer": "ipython3",
   "version": "3.5.3"
  }
 },
 "nbformat": 4,
 "nbformat_minor": 2
}
