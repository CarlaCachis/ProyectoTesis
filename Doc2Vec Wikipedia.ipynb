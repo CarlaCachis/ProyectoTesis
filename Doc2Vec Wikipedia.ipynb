{
 "cells": [
  {
   "cell_type": "code",
   "execution_count": 3,
   "metadata": {},
   "outputs": [],
   "source": [
    "from gensim.corpora.wikicorpus import WikiCorpus\n"
   ]
  },
  {
   "cell_type": "code",
   "execution_count": 4,
   "metadata": {},
   "outputs": [],
   "source": [
    "from gensim.models.doc2vec import Doc2Vec, TaggedDocument"
   ]
  },
  {
   "cell_type": "code",
   "execution_count": 5,
   "metadata": {},
   "outputs": [],
   "source": [
    "from pprint import pprint"
   ]
  },
  {
   "cell_type": "code",
   "execution_count": 6,
   "metadata": {},
   "outputs": [],
   "source": [
    "import multiprocessing "
   ]
  },
  {
   "cell_type": "code",
   "execution_count": 13,
   "metadata": {},
   "outputs": [],
   "source": [
    "data = WikiCorpus(\"./data/eswiki-latest-pages-articles.xml.bz2\") "
   ]
  },
  {
   "cell_type": "code",
   "execution_count": 11,
   "metadata": {},
   "outputs": [],
   "source": [
    "#clase para convertir a doc2vec\n",
    "class TaggedWikiDocument(object):\n",
    "    def __init__(self, wiki):\n",
    "        self.wiki = wiki\n",
    "        self.wiki.metadata = True\n",
    "    def __iter__(self):\n",
    "        for content, (page_id, title) in self.wiki.get_texts():\n",
    "            yield TaggedDocument([c for c in content], [title])"
   ]
  },
  {
   "cell_type": "markdown",
   "metadata": {},
   "source": [
    "- Se transforma el corpus al formato para utilizar en doc2vec"
   ]
  },
  {
   "cell_type": "code",
   "execution_count": 14,
   "metadata": {},
   "outputs": [],
   "source": [
    "documents = TaggedWikiDocument(data)"
   ]
  },
  {
   "cell_type": "code",
   "execution_count": 15,
   "metadata": {
    "scrolled": false
   },
   "outputs": [],
   "source": [
    "#PARAMETROS\n",
    "cores = multiprocessing.cpu_count()\n",
    "words = 1\n",
    "size = 300\n",
    "context_window = 8\n",
    "min_count = 19\n",
    "epochs = 10\n",
    "n_epochs = 10"
   ]
  },
  {
   "cell_type": "markdown",
   "metadata": {},
   "source": [
    "### PV-DBOW"
   ]
  },
  {
   "cell_type": "code",
   "execution_count": 16,
   "metadata": {},
   "outputs": [],
   "source": [
    "model = Doc2Vec(dm=0, dbow_words=words, vector_size=size, window=context_window, min_count=min_count, \n",
    "                epochs=epochs, workers=cores)"
   ]
  },
  {
   "cell_type": "markdown",
   "metadata": {},
   "source": [
    "- Construccion del vocabulario"
   ]
  },
  {
   "cell_type": "code",
   "execution_count": 17,
   "metadata": {
    "scrolled": true
   },
   "outputs": [
    {
     "name": "stdout",
     "output_type": "stream",
     "text": [
      "Tamaño del vocabulario: 427852\n",
      "Doc2Vec(dbow+w,d300,n5,w8,mc19,s0.001,t4)\n"
     ]
    }
   ],
   "source": [
    "model.build_vocab(documents)\n",
    "print(\"Tamaño del vocabulario: {}\".format(len(model.wv.vocab)))\n",
    "print(str(model))"
   ]
  },
  {
   "cell_type": "markdown",
   "metadata": {},
   "source": [
    "- Entrenamiento del modelo"
   ]
  },
  {
   "cell_type": "code",
   "execution_count": 23,
   "metadata": {},
   "outputs": [
    {
     "name": "stdout",
     "output_type": "stream",
     "text": [
      "Wall time: 1d 11h 38min 51s\n"
     ]
    }
   ],
   "source": [
    "%time model.train(documents, total_examples=model.corpus_count, epochs=n_epochs)"
   ]
  },
  {
   "cell_type": "markdown",
   "metadata": {},
   "source": [
    "- Almacenamiento del modelo"
   ]
  },
  {
   "cell_type": "code",
   "execution_count": 25,
   "metadata": {},
   "outputs": [],
   "source": [
    "model.save(\"./doc2vec_wikipedia_es_pvdbow\")"
   ]
  },
  {
   "cell_type": "code",
   "execution_count": 1,
   "metadata": {},
   "outputs": [
    {
     "name": "stderr",
     "output_type": "stream",
     "text": [
      "C:\\Users\\Carla\\Anaconda3\\lib\\site-packages\\gensim\\utils.py:1197: UserWarning: detected Windows; aliasing chunkize to chunkize_serial\n",
      "  warnings.warn(\"detected Windows; aliasing chunkize to chunkize_serial\")\n"
     ]
    }
   ],
   "source": [
    "import gensim"
   ]
  },
  {
   "cell_type": "code",
   "execution_count": 2,
   "metadata": {},
   "outputs": [
    {
     "data": {
      "text/plain": [
       "(1301830, 300)"
      ]
     },
     "execution_count": 2,
     "metadata": {},
     "output_type": "execute_result"
    }
   ],
   "source": [
    "model = gensim.models.Word2Vec.load(\"./doc2vec_wikipedia_es_pvdbow\")\n",
    "model.docvecs.vectors_docs.shape"
   ]
  },
  {
   "cell_type": "code",
   "execution_count": 3,
   "metadata": {},
   "outputs": [
    {
     "name": "stderr",
     "output_type": "stream",
     "text": [
      "C:\\Users\\Carla\\Anaconda3\\lib\\site-packages\\ipykernel_launcher.py:1: DeprecationWarning: Call to deprecated `most_similar` (Method will be removed in 4.0.0, use self.wv.most_similar() instead).\n",
      "  \"\"\"Entry point for launching an IPython kernel.\n"
     ]
    },
    {
     "data": {
      "text/plain": [
       "[('aseguradora', 0.6253476738929749),\n",
       " ('reaseguros', 0.5982040166854858),\n",
       " ('aseguradoras', 0.5916717052459717),\n",
       " ('rga', 0.5637242794036865),\n",
       " ('bancarios', 0.5485397577285767),\n",
       " ('asegurador', 0.5484205484390259),\n",
       " ('bancaria', 0.5317405462265015),\n",
       " ('crédit', 0.5307000875473022),\n",
       " ('reaseguradoras', 0.5265746116638184),\n",
       " ('banca', 0.5258691906929016),\n",
       " ('aseguradores', 0.5252082347869873),\n",
       " ('movistar', 0.5198383331298828),\n",
       " ('insurance', 0.5192006826400757),\n",
       " ('adeslas', 0.5187041759490967),\n",
       " ('caffita', 0.5175313949584961),\n",
       " ('pensiones', 0.514675498008728),\n",
       " ('pecol', 0.5130059719085693),\n",
       " ('financieros', 0.5085557699203491),\n",
       " ('ihned', 0.5002023577690125),\n",
       " ('caisse', 0.49858200550079346)]"
      ]
     },
     "execution_count": 3,
     "metadata": {},
     "output_type": "execute_result"
    }
   ],
   "source": [
    "model.most_similar(positive=['seguros'],topn=20)\n"
   ]
  },
  {
   "cell_type": "code",
   "execution_count": 4,
   "metadata": {},
   "outputs": [
    {
     "name": "stderr",
     "output_type": "stream",
     "text": [
      "C:\\Users\\Carla\\Anaconda3\\lib\\site-packages\\ipykernel_launcher.py:1: DeprecationWarning: Call to deprecated `most_similar` (Method will be removed in 4.0.0, use self.wv.most_similar() instead).\n",
      "  \"\"\"Entry point for launching an IPython kernel.\n"
     ]
    },
    {
     "data": {
      "text/plain": [
       "[('planvital', 0.5618166923522949),\n",
       " ('nfpp', 0.5099099278450012),\n",
       " ('hanglemezkiadók', 0.4977038502693176),\n",
       " ('nfpf', 0.48715126514434814),\n",
       " ('banmédica', 0.4801757335662842),\n",
       " ('fimi', 0.47769448161125183),\n",
       " ('hitlisten', 0.4760283827781677),\n",
       " ('cuprum', 0.47420910000801086),\n",
       " ('čns', 0.47367745637893677),\n",
       " ('snep', 0.46977728605270386),\n",
       " ('mahasz', 0.4624006748199463),\n",
       " ('lebanese', 0.4611194133758545),\n",
       " ('ifop', 0.4609466791152954),\n",
       " ('shipments', 0.460898756980896),\n",
       " ('szövetsége', 0.4607885181903839),\n",
       " ('hittiä', 0.4587923288345337),\n",
       " ('tophit', 0.45586180686950684),\n",
       " ('codelco', 0.4556683301925659),\n",
       " ('nvpi', 0.4546506702899933),\n",
       " ('slotop', 0.45435816049575806)]"
      ]
     },
     "execution_count": 4,
     "metadata": {},
     "output_type": "execute_result"
    }
   ],
   "source": [
    "model.most_similar(positive=['afp'],topn=20)\n"
   ]
  },
  {
   "cell_type": "markdown",
   "metadata": {},
   "source": [
    "Se ve la necesidad de entrenar en un espacio vectorial asociado a inversiones"
   ]
  }
 ],
 "metadata": {
  "kernelspec": {
   "display_name": "Python 3",
   "language": "python",
   "name": "python3"
  },
  "language_info": {
   "codemirror_mode": {
    "name": "ipython",
    "version": 3
   },
   "file_extension": ".py",
   "mimetype": "text/x-python",
   "name": "python",
   "nbconvert_exporter": "python",
   "pygments_lexer": "ipython3",
   "version": "3.6.4"
  }
 },
 "nbformat": 4,
 "nbformat_minor": 2
}
