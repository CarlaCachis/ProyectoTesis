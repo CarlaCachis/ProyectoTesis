{
 "cells": [
  {
   "cell_type": "code",
   "execution_count": 2,
   "metadata": {},
   "outputs": [],
   "source": [
    "import multiprocessing \n",
    "import gensim\n",
    "import nltk\n",
    "from gensim.models.doc2vec import Doc2Vec, TaggedDocument\n",
    "from nltk.tokenize import word_tokenize"
   ]
  },
  {
   "cell_type": "code",
   "execution_count": 3,
   "metadata": {},
   "outputs": [],
   "source": [
    "from pymongo import MongoClient\n",
    "client = MongoClient('localhost', 27017)\n",
    "\n",
    "bdtesis = client.BDTesis\n",
    "docs2train = bdtesis.docs2trainv2\n"
   ]
  },
  {
   "cell_type": "code",
   "execution_count": 5,
   "metadata": {},
   "outputs": [
    {
     "data": {
      "text/plain": [
       "[]"
      ]
     },
     "execution_count": 5,
     "metadata": {},
     "output_type": "execute_result"
    }
   ],
   "source": [
    "#a minusculas\n",
    "data = []\n",
    "for x in bdtesis.docs2train.find():\n",
    "    data.append(x['documento'])\n",
    "datamin =[]\n",
    "for x in (data):\n",
    "    datamin.append(x.lower()) \n",
    "data"
   ]
  },
  {
   "cell_type": "code",
   "execution_count": null,
   "metadata": {},
   "outputs": [],
   "source": [
    "#limpieza de puntuación\n",
    "import re\n",
    "import nltk\n",
    "import string\n",
    "string.punctuation\n",
    "datapunc = []\n",
    "for x in datamin:\n",
    "    datapunc.append(x.translate(str.maketrans('', '', string.punctuation)))\n"
   ]
  },
  {
   "cell_type": "code",
   "execution_count": null,
   "metadata": {},
   "outputs": [],
   "source": [
    "#retirar stopwords\n",
    "from nltk.corpus import stopwords\n",
    "stops = stopwords.words('spanish')\n",
    "dataclean = []\n",
    "for x in datapunc:\n",
    "    palabras = x.split()\n",
    "    resultwords  = [palabra for palabra in palabras if palabra.lower() not in stops]\n",
    "    dataclean.append(' '.join(resultwords))\n",
    "    \n"
   ]
  },
  {
   "cell_type": "code",
   "execution_count": null,
   "metadata": {},
   "outputs": [],
   "source": [
    "tagged_data = [TaggedDocument(words=word_tokenize(_d.lower()), tags=[str(i)]) for i, _d in enumerate(dataclean)]"
   ]
  },
  {
   "cell_type": "code",
   "execution_count": null,
   "metadata": {},
   "outputs": [],
   "source": [
    "#PARAMETROS\n",
    "cores = multiprocessing.cpu_count()\n",
    "words = 1\n",
    "size = 300\n",
    "context_window = 8\n",
    "min_count = 19\n",
    "epochs = 10\n",
    "n_epochs = 10"
   ]
  },
  {
   "cell_type": "code",
   "execution_count": null,
   "metadata": {},
   "outputs": [],
   "source": [
    "n_epochs = 100\n",
    "vec_size = 100\n",
    "alpha = 0.025\n",
    "model = Doc2Vec(size=vec_size, alpha=alpha,min_count=1, dm =0)\n",
    "model.build_vocab(tagged_data)\n",
    "%time model.train(tagged_data, total_examples=model.corpus_count, epochs=n_epochs)\n",
    "\n",
    "\n",
    "model.save(\"./doc2vec_sbs_documents_pvdbow\")\n",
    "  "
   ]
  },
  {
   "cell_type": "code",
   "execution_count": null,
   "metadata": {},
   "outputs": [],
   "source": [
    "model = Doc2Vec.load(\"./doc2vec_sbs_documents_pvdbow\")\n"
   ]
  },
  {
   "cell_type": "code",
   "execution_count": null,
   "metadata": {},
   "outputs": [],
   "source": [
    "model.most_similar(positive=['seguros'],topn=10)"
   ]
  },
  {
   "cell_type": "code",
   "execution_count": null,
   "metadata": {},
   "outputs": [],
   "source": []
  }
 ],
 "metadata": {
  "kernelspec": {
   "display_name": "Python 3",
   "language": "python",
   "name": "python3"
  },
  "language_info": {
   "codemirror_mode": {
    "name": "ipython",
    "version": 3
   },
   "file_extension": ".py",
   "mimetype": "text/x-python",
   "name": "python",
   "nbconvert_exporter": "python",
   "pygments_lexer": "ipython3",
   "version": "3.6.4"
  }
 },
 "nbformat": 4,
 "nbformat_minor": 2
}
