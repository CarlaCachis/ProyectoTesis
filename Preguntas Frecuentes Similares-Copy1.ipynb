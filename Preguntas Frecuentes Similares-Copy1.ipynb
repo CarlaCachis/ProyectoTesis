{
 "cells": [
  {
   "cell_type": "code",
   "execution_count": 4,
   "metadata": {},
   "outputs": [
    {
     "name": "stderr",
     "output_type": "stream",
     "text": [
      "C:\\Users\\Carla\\Anaconda3\\lib\\site-packages\\gensim\\utils.py:1197: UserWarning: detected Windows; aliasing chunkize to chunkize_serial\n",
      "  warnings.warn(\"detected Windows; aliasing chunkize to chunkize_serial\")\n"
     ]
    }
   ],
   "source": [
    "import numpy as np\n",
    "from sklearn.metrics.pairwise import cosine_similarity\n",
    "import re\n",
    "import nltk\n",
    "import string\n",
    "from nltk.corpus import stopwords\n",
    "from nltk.tokenize import word_tokenize\n",
    "import multiprocessing \n",
    "import gensim\n",
    "from gensim.models.doc2vec import Doc2Vec, TaggedDocument\n",
    "import numpy as np\n",
    "from sklearn.metrics.pairwise import cosine_similarity\n"
   ]
  },
  {
   "cell_type": "code",
   "execution_count": 131,
   "metadata": {},
   "outputs": [
    {
     "name": "stdout",
     "output_type": "stream",
     "text": [
      "Ingrese la pregunta:\n",
      "¿La rentabilidad de las inversiones y la tasa implícita de obligaciones deberá ser calculada en la misma moneda y plazo?\n"
     ]
    }
   ],
   "source": [
    "print('Ingrese la pregunta:')\n",
    "pregunta = input()"
   ]
  },
  {
   "cell_type": "code",
   "execution_count": 132,
   "metadata": {},
   "outputs": [
    {
     "data": {
      "text/plain": [
       "['rentabilidad',\n",
       " 'inversiones',\n",
       " 'tasa',\n",
       " 'implícita',\n",
       " 'obligaciones',\n",
       " 'deberá',\n",
       " 'ser',\n",
       " 'calculada',\n",
       " 'misma',\n",
       " 'moneda',\n",
       " 'plazo']"
      ]
     },
     "execution_count": 132,
     "metadata": {},
     "output_type": "execute_result"
    }
   ],
   "source": [
    "cadpun = string.punctuation + '¿�'\n",
    "stops = stopwords.words('spanish')\n",
    "\n",
    "\n",
    "pregunta = pregunta.lower()\n",
    "pregunta = pregunta.translate(str.maketrans('', '', cadpun))\n",
    "palabras = pregunta.split()\n",
    "resultwords = [palabra for palabra in palabras if palabra.lower() not in stops]\n",
    "preguntaclean = (' '.join(resultwords)).split()\n",
    "preguntaclean"
   ]
  },
  {
   "cell_type": "code",
   "execution_count": 133,
   "metadata": {},
   "outputs": [],
   "source": [
    "tagged_question = [TaggedDocument(words=word_tokenize(_d.lower()), tags=[str(i)]) for i, _d in enumerate(pregunta)]\n",
    "palabras = pregunta.split()"
   ]
  },
  {
   "cell_type": "code",
   "execution_count": 5,
   "metadata": {},
   "outputs": [
    {
     "data": {
      "text/plain": [
       "(1301830, 300)"
      ]
     },
     "execution_count": 5,
     "metadata": {},
     "output_type": "execute_result"
    }
   ],
   "source": [
    "model = gensim.models.Word2Vec.load(\"./doc2vec_wikipedia_es_pvdbow\")\n",
    "model.docvecs.vectors_docs.shape\n"
   ]
  },
  {
   "cell_type": "code",
   "execution_count": 35,
   "metadata": {},
   "outputs": [],
   "source": [
    "from pymongo import MongoClient\n",
    "client = MongoClient('localhost', 27017)\n",
    "\n",
    "bdtesis = client.BDTesis\n",
    "preguntas = bdtesis.PreguntasSBS\n"
   ]
  },
  {
   "cell_type": "code",
   "execution_count": 135,
   "metadata": {},
   "outputs": [],
   "source": [
    "vector = model.infer_vector(preguntaclean).reshape(1,-1)\n",
    "vectores = []\n",
    "preguntas = []\n",
    "for x in bdtesis.PreguntasSBS.find():\n",
    "    vectores.append(x['vector'])\n",
    "for x in bdtesis.PreguntasSBS.find():\n",
    "    preguntas.append(x['Pregunta'])"
   ]
  },
  {
   "cell_type": "code",
   "execution_count": 136,
   "metadata": {},
   "outputs": [
    {
     "data": {
      "text/plain": [
       "'¿La rentabilidad de las inversiones y la tasa implícita de obligaciones deberá ser calculada en la misma moneda y plazo?: '"
      ]
     },
     "execution_count": 136,
     "metadata": {},
     "output_type": "execute_result"
    }
   ],
   "source": [
    "#comparación la pregunta ingresada con la BD\n",
    "proximidades = []\n",
    "maxprox = 0\n",
    "cont = 0\n",
    "similares = {}\n",
    "\n",
    "for x in vectores:\n",
    "    vectorpregfrec = np.asarray(x).reshape(1,-1)\n",
    "    res = cosine_similarity(vectorpregfrec,vector) \n",
    "    #similares[float(res[0])] = preguntas[cont]\n",
    "    similares[preguntas[cont]] = float(res[0]) \n",
    "    if (res> maxprox):\n",
    "        preguntaprox = preguntas[cont]\n",
    "        maxprox = res\n",
    "        contprox = cont\n",
    "    proximidades.append(res)\n",
    "    cont = cont + 1\n",
    "preguntaprox\n"
   ]
  },
  {
   "cell_type": "code",
   "execution_count": 137,
   "metadata": {},
   "outputs": [
    {
     "data": {
      "text/plain": [
       "array([[0.85037246]])"
      ]
     },
     "execution_count": 137,
     "metadata": {},
     "output_type": "execute_result"
    }
   ],
   "source": [
    "max(proximidades)"
   ]
  },
  {
   "cell_type": "code",
   "execution_count": 138,
   "metadata": {},
   "outputs": [],
   "source": [
    "ordenados = sorted(similares.items(), key=lambda kv: kv[1], reverse=True)\n"
   ]
  },
  {
   "cell_type": "code",
   "execution_count": 142,
   "metadata": {},
   "outputs": [
    {
     "name": "stdout",
     "output_type": "stream",
     "text": [
      "('¿La rentabilidad de las inversiones y la tasa implícita de obligaciones deberá ser calculada en la misma moneda y plazo?: ', 0.8503724640953783)\n",
      "('¿El monto a registrar en instrumentos de cuentas por pagar deberá ser negativo? ', 0.7241595258538682)\n",
      "('¿El importe de la operación será el valor Neto (Deducido de depreciación) o Valor de compra? ¿Deberá ser en su moneda original o en la moneda que se tiene contabilizada?', 0.7079747111206574)\n",
      "('Para los productos de riesgo y ahorro que garantizan una tasa ¿cuál sería la tasa implícita?', 0.7003280123868492)\n",
      "('¿Qué quiere decir “código identificador de la base de la tasa variable empleado para el cálculo de los intereses del instrumento de inversión”?', 0.6944714762632589)\n"
     ]
    }
   ],
   "source": [
    "print(ordenados[0])\n",
    "print(ordenados[1])\n",
    "print(ordenados[2])\n",
    "print(ordenados[3])\n",
    "print(ordenados[4])\n"
   ]
  },
  {
   "cell_type": "markdown",
   "metadata": {},
   "source": [
    "# Verificación"
   ]
  },
  {
   "cell_type": "code",
   "execution_count": 34,
   "metadata": {},
   "outputs": [
    {
     "data": {
      "text/plain": [
       "[]"
      ]
     },
     "execution_count": 34,
     "metadata": {},
     "output_type": "execute_result"
    }
   ],
   "source": [
    "preguntas1 = []\n",
    "preguntas2 = []\n",
    "for x in bdtesis.preguntasSimilares.find():\n",
    "    preguntas1.append(x['pregunta1'])\n",
    "for x in bdtesis.preguntasSimilares.find():\n",
    "    preguntas2.append(x['pregunta2'])\n",
    "preguntas1"
   ]
  },
  {
   "cell_type": "code",
   "execution_count": 14,
   "metadata": {},
   "outputs": [
    {
     "ename": "IndexError",
     "evalue": "list index out of range",
     "output_type": "error",
     "traceback": [
      "\u001b[1;31m---------------------------------------------------------------------------\u001b[0m",
      "\u001b[1;31mIndexError\u001b[0m                                Traceback (most recent call last)",
      "\u001b[1;32m<ipython-input-14-c5b2059a1a4a>\u001b[0m in \u001b[0;36m<module>\u001b[1;34m()\u001b[0m\n\u001b[0;32m      1\u001b[0m \u001b[1;31m#i = 0\u001b[0m\u001b[1;33m\u001b[0m\u001b[1;33m\u001b[0m\u001b[0m\n\u001b[0;32m      2\u001b[0m \u001b[1;31m#for x in range(5):\u001b[0m\u001b[1;33m\u001b[0m\u001b[1;33m\u001b[0m\u001b[0m\n\u001b[1;32m----> 3\u001b[1;33m \u001b[0mobjetivo\u001b[0m \u001b[1;33m=\u001b[0m \u001b[0mpreguntas1\u001b[0m\u001b[1;33m[\u001b[0m\u001b[1;36m0\u001b[0m\u001b[1;33m]\u001b[0m\u001b[1;33m\u001b[0m\u001b[0m\n\u001b[0m\u001b[0;32m      4\u001b[0m \u001b[0mpregunta\u001b[0m \u001b[1;33m=\u001b[0m \u001b[0mpreguntas2\u001b[0m\u001b[1;33m[\u001b[0m\u001b[1;36m0\u001b[0m\u001b[1;33m]\u001b[0m\u001b[1;33m\u001b[0m\u001b[0m\n\u001b[0;32m      5\u001b[0m \u001b[1;33m\u001b[0m\u001b[0m\n",
      "\u001b[1;31mIndexError\u001b[0m: list index out of range"
     ]
    }
   ],
   "source": [
    "#i = 0\n",
    "#for x in range(5):\n",
    "objetivo = preguntas1[0]\n",
    "pregunta = preguntas2[0]\n",
    "\n",
    "cadpun = string.punctuation + '¿�'\n",
    "stops = stopwords.words('spanish')\n",
    "\n",
    "\n",
    "pregunta = pregunta.lower()\n",
    "pregunta = pregunta.translate(str.maketrans('', '', cadpun))\n",
    "palabras = pregunta.split()\n",
    "resultwords = [palabra for palabra in palabras if palabra.lower() not in stops]\n",
    "preguntaclean = (' '.join(resultwords)).split()\n",
    "\n",
    "vector = model.infer_vector(preguntaclean).reshape(1,-1)\n",
    "vectores = []\n",
    "preguntas = []\n",
    "for x in bdtesis.PreguntasSBS.find():\n",
    "    vectores.append(x['vector'])\n",
    "for x in bdtesis.PreguntasSBS.find():\n",
    "    preguntas.append(x['Pregunta'])\n",
    "\n",
    "#comparación la pregunta ingresada con la BD\n",
    "proximidades = []\n",
    "maxprox = 0\n",
    "cont = 0\n",
    "similares = {}\n",
    "\n",
    "for x in vectores:\n",
    "    vectorpregfrec = np.asarray(x).reshape(1,-1)\n",
    "    res = cosine_similarity(vectorpregfrec,vector) \n",
    "    #similares[float(res[0])] = preguntas[cont]\n",
    "    similares[preguntas[cont]] = float(res[0]) \n",
    "    if (res> maxprox):\n",
    "        preguntaprox = preguntas[cont]\n",
    "        maxprox = res\n",
    "        contprox = cont\n",
    "    proximidades.append(res)\n",
    "    cont = cont + 1\n",
    "\n",
    "print (preguntaprox == objetivo)"
   ]
  },
  {
   "cell_type": "code",
   "execution_count": null,
   "metadata": {},
   "outputs": [],
   "source": []
  }
 ],
 "metadata": {
  "kernelspec": {
   "display_name": "Python 3",
   "language": "python",
   "name": "python3"
  },
  "language_info": {
   "codemirror_mode": {
    "name": "ipython",
    "version": 3
   },
   "file_extension": ".py",
   "mimetype": "text/x-python",
   "name": "python",
   "nbconvert_exporter": "python",
   "pygments_lexer": "ipython3",
   "version": "3.6.4"
  }
 },
 "nbformat": 4,
 "nbformat_minor": 2
}
