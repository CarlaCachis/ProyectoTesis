{
 "cells": [
  {
   "cell_type": "code",
   "execution_count": 1,
   "metadata": {},
   "outputs": [
    {
     "name": "stderr",
     "output_type": "stream",
     "text": [
      "C:\\Users\\Carla\\Anaconda3\\lib\\site-packages\\gensim\\utils.py:1197: UserWarning: detected Windows; aliasing chunkize to chunkize_serial\n",
      "  warnings.warn(\"detected Windows; aliasing chunkize to chunkize_serial\")\n"
     ]
    }
   ],
   "source": [
    "import numpy as np\n",
    "from sklearn.metrics.pairwise import cosine_similarity\n",
    "import re\n",
    "import nltk\n",
    "import string\n",
    "from nltk.corpus import stopwords\n",
    "from nltk.tokenize import word_tokenize\n",
    "import multiprocessing \n",
    "import gensim\n",
    "from gensim.models.doc2vec import Doc2Vec, TaggedDocument\n",
    "import numpy as np\n",
    "from sklearn.metrics.pairwise import cosine_similarity\n"
   ]
  },
  {
   "cell_type": "code",
   "execution_count": 2,
   "metadata": {},
   "outputs": [
    {
     "name": "stdout",
     "output_type": "stream",
     "text": [
      "Ingrese la pregunta:\n",
      "Las inversiones deben ser reportadas en el anexo es-4\n"
     ]
    }
   ],
   "source": [
    "#¿Las inversiones deben ser reportadas en el anexo es-4?\n",
    "print('Ingrese la pregunta:')\n",
    "pregunta = input()"
   ]
  },
  {
   "cell_type": "code",
   "execution_count": 3,
   "metadata": {},
   "outputs": [
    {
     "data": {
      "text/plain": [
       "['inversiones', 'deben', 'ser', 'reportadas', 'anexo', 'es4']"
      ]
     },
     "execution_count": 3,
     "metadata": {},
     "output_type": "execute_result"
    }
   ],
   "source": [
    "cadpun = string.punctuation + '¿�'\n",
    "stops = stopwords.words('spanish')\n",
    "\n",
    "\n",
    "pregunta = pregunta.lower()\n",
    "pregunta = pregunta.translate(str.maketrans('', '', cadpun))\n",
    "palabras = pregunta.split()\n",
    "resultwords = [palabra for palabra in palabras if palabra.lower() not in stops]\n",
    "preguntaclean = (' '.join(resultwords)).split()\n",
    "preguntaclean"
   ]
  },
  {
   "cell_type": "code",
   "execution_count": 4,
   "metadata": {},
   "outputs": [],
   "source": [
    "tagged_question = [TaggedDocument(words=word_tokenize(_d.lower()), tags=[str(i)]) for i, _d in enumerate(pregunta)]\n",
    "palabras = pregunta.split()"
   ]
  },
  {
   "cell_type": "code",
   "execution_count": 5,
   "metadata": {},
   "outputs": [
    {
     "data": {
      "text/plain": [
       "(1301830, 300)"
      ]
     },
     "execution_count": 5,
     "metadata": {},
     "output_type": "execute_result"
    }
   ],
   "source": [
    "model = gensim.models.Word2Vec.load(\"./doc2vec_wikipedia_es_pvdbow\")\n",
    "model.docvecs.vectors_docs.shape\n"
   ]
  },
  {
   "cell_type": "code",
   "execution_count": 6,
   "metadata": {},
   "outputs": [],
   "source": [
    "from pymongo import MongoClient\n",
    "client = MongoClient('localhost', 27017)\n",
    "\n",
    "bdtesis = client.BDTesis\n",
    "documentos = bdtesis.documentosSBS\n"
   ]
  },
  {
   "cell_type": "code",
   "execution_count": 8,
   "metadata": {},
   "outputs": [],
   "source": [
    "vector = model.infer_vector(preguntaclean).reshape(1,-1)\n",
    "vectores = []\n",
    "documentos = []\n",
    "for x in bdtesis.documentosSBS.find():\n",
    "    vectores.append(x['vector'])\n",
    "for x in bdtesis.documentosSBS.find():\n",
    "    documentos.append(x['contenido'])"
   ]
  },
  {
   "cell_type": "code",
   "execution_count": 9,
   "metadata": {},
   "outputs": [
    {
     "data": {
      "text/plain": [
       "'El cálculo del indicador de medición del riesgo cambiario deberá ser incluido en el Anexo ES-19A.'"
      ]
     },
     "execution_count": 9,
     "metadata": {},
     "output_type": "execute_result"
    }
   ],
   "source": [
    "#comparación la pregunta ingresada con la BD\n",
    "proximidades = []\n",
    "maxprox = 0\n",
    "cont = 0\n",
    "similares = {}\n",
    "\n",
    "for x in vectores:\n",
    "    vectordoc = np.asarray(x).reshape(1,-1)\n",
    "    res = cosine_similarity(vectordoc,vector) \n",
    "    #similares[float(res[0])] = preguntas[cont]\n",
    "    similares[documentos[cont]] = float(res[0]) \n",
    "    if (res> maxprox):\n",
    "        docaprox = documentos[cont]\n",
    "        maxprox = res\n",
    "        contprox = cont\n",
    "    proximidades.append(res)\n",
    "    cont = cont + 1\n",
    "docaprox\n"
   ]
  },
  {
   "cell_type": "code",
   "execution_count": 10,
   "metadata": {},
   "outputs": [
    {
     "data": {
      "text/plain": [
       "array([[0.60707575]])"
      ]
     },
     "execution_count": 10,
     "metadata": {},
     "output_type": "execute_result"
    }
   ],
   "source": [
    "max(proximidades)"
   ]
  },
  {
   "cell_type": "code",
   "execution_count": 11,
   "metadata": {},
   "outputs": [],
   "source": [
    "ordenados = sorted(similares.items(), key=lambda kv: kv[1], reverse=True)\n"
   ]
  },
  {
   "cell_type": "code",
   "execution_count": 12,
   "metadata": {},
   "outputs": [
    {
     "name": "stdout",
     "output_type": "stream",
     "text": [
      "('El cálculo del indicador de medición del riesgo cambiario deberá ser incluido en el Anexo ES-19A.', 0.6070757524087512)\n",
      "('Los instrumentos emitidos en el exterior, vía oferta pública o privada, deben ser clasificados, por lo menos, por una (1) empresa clasificadora señalada en el Anexo N° 1 del presente Reglamento. ', 0.5937664502248429)\n",
      "('El Anexo N° ES-4 Inversiones totales se remite con periodicidad mensual ', 0.5900275902807837)\n",
      "('Contar con indicadores de alerta temprana para identificar riesgos que afecten las inversiones en inmuebles u otras inversiones inmobiliarias. ', 0.5854306899936168)\n",
      "('En el caso de instrumentos emitidos localmente vía oferta privada, las clasificaciones de riesgo pueden ser otorgadas por alguna de las empresas clasificadoras de riesgo señaladas en los literales a) o b); y se considera como grado de inversión lo indicado en el literal que corresponda, según la equivalencia establecida en el Anexo antes citado. ', 0.5823252738518438)\n"
     ]
    }
   ],
   "source": [
    "print(ordenados[0])\n",
    "print(ordenados[1])\n",
    "print(ordenados[2])\n",
    "print(ordenados[3])\n",
    "print(ordenados[4])\n"
   ]
  },
  {
   "cell_type": "code",
   "execution_count": null,
   "metadata": {},
   "outputs": [],
   "source": []
  }
 ],
 "metadata": {
  "kernelspec": {
   "display_name": "Python 3",
   "language": "python",
   "name": "python3"
  },
  "language_info": {
   "codemirror_mode": {
    "name": "ipython",
    "version": 3
   },
   "file_extension": ".py",
   "mimetype": "text/x-python",
   "name": "python",
   "nbconvert_exporter": "python",
   "pygments_lexer": "ipython3",
   "version": "3.6.4"
  }
 },
 "nbformat": 4,
 "nbformat_minor": 2
}
